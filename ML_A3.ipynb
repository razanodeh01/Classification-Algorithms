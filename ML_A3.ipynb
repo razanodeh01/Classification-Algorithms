{
  "nbformat": 4,
  "nbformat_minor": 0,
  "metadata": {
    "colab": {
      "provenance": [],
      "collapsed_sections": [
        "1T9YzE6tMUTA",
        "qtoJ-XIDMO41",
        "Ul4keM7YMAqM",
        "phpBe7f5NVrP",
        "ksfIXla6jVNx",
        "-JUR6wnZ6G_c",
        "JYLjCd1LjehK",
        "AtYqROUoj59f",
        "HnQSaW7Cj7zx",
        "My8cNqEIkZmS",
        "vXuttooFm4UG",
        "n6ug30jlNXcU",
        "Md_vtXdPOiBe",
        "yJ-G4nVxNePZ",
        "uaEmljHiNjRO",
        "haBOWC3L-DhV",
        "Yq9a4QEJ-Foi",
        "ZI5qFBpA_15b",
        "1znLDHvqFmjb"
      ]
    },
    "kernelspec": {
      "name": "python3",
      "display_name": "Python 3"
    },
    "language_info": {
      "name": "python"
    }
  },
  "cells": [
    {
      "cell_type": "markdown",
      "source": [
        "![bzu.png](data:image/png;base64,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)\n",
        "\n",
        "**Department of Electrical & Computer Engineering**\n",
        "\n",
        "\n",
        "**First Semester, 2024/2025**\n",
        "\n",
        "**Machine Learning and Data Science ‐ ENCS5341**\n",
        "\n",
        "**Assignment 3 : KNN, Logistic Regression, SVM, Kernel Methods, and Ensemble Methods (Boosting and Bagging)**\n",
        "\n",
        "\n",
        "---\n",
        "\n",
        "```\n",
        " Hidaya Mustafa - 1201910\n",
        " Razan Abdalrahman - 1200531\n",
        "```"
      ],
      "metadata": {
        "id": "9tL9cUhrLbTC"
      }
    },
    {
      "cell_type": "markdown",
      "source": [
        "# **Project Overview**."
      ],
      "metadata": {
        "id": "1T9YzE6tMUTA"
      }
    },
    {
      "cell_type": "markdown",
      "source": [
        "In this assignment, we will implement and evaluate key machine learning algorithms, including K-Nearest Neighbors (KNN), Logistic Regression, and Support Vector Machines (SVM) with various kernels. We will also explore ensemble methods such as Boosting and Bagging. Additionally, we will experiment with different configurations, compare their performance, and evaluate the models using classification metrics."
      ],
      "metadata": {
        "id": "30ptzoiFNH_h"
      }
    },
    {
      "cell_type": "markdown",
      "source": [
        "\n",
        "\n",
        "---\n",
        "\n"
      ],
      "metadata": {
        "id": "oNEbV69C-LlF"
      }
    },
    {
      "cell_type": "markdown",
      "source": [
        "# **Librarys**."
      ],
      "metadata": {
        "id": "qtoJ-XIDMO41"
      }
    },
    {
      "cell_type": "code",
      "source": [
        "# ! pip install pandas\n",
        "# ! pip install scikit-learn\n",
        "import pandas\n",
        "import pandas as pd\n",
        "import numpy as np\n",
        "import seaborn as sns\n",
        "import matplotlib.pyplot as plt\n",
        "from sklearn.datasets import load_breast_cancer\n",
        "from sklearn.model_selection import train_test_split\n",
        "from sklearn.neighbors import KNeighborsClassifier\n",
        "from sklearn.model_selection import GridSearchCV\n",
        "from sklearn.preprocessing import StandardScaler\n",
        "from sklearn.linear_model import LogisticRegression\n",
        "from sklearn.metrics import accuracy_score, precision_score, recall_score, f1_score, roc_auc_score\n",
        "from sklearn.svm import SVC\n",
        "from sklearn.ensemble import AdaBoostClassifier\n",
        "from sklearn.ensemble import RandomForestClassifier"
      ],
      "metadata": {
        "id": "fIqdCkWDNJ_i"
      },
      "execution_count": null,
      "outputs": []
    },
    {
      "cell_type": "markdown",
      "source": [
        "\n",
        "\n",
        "---\n",
        "\n"
      ],
      "metadata": {
        "id": "GDfvfmsF-fJx"
      }
    },
    {
      "cell_type": "markdown",
      "source": [
        "# **Dataset**."
      ],
      "metadata": {
        "id": "Ul4keM7YMAqM"
      }
    },
    {
      "cell_type": "markdown",
      "source": [
        "The **Breast Cancer dataset** is a widely used dataset in machine learning and medical research for classifying and diagnosing breast cancer cases. It is designed to help researchers and data scientists develop models to predict whether a tumor is malignant (cancerous) or benign (non-cancerous) based on various clinical and pathological features.\n",
        "\n"
      ],
      "metadata": {
        "id": "r0ZDuVMJNrhS"
      }
    },
    {
      "cell_type": "code",
      "source": [
        "# Load the Breast Cancer dataset.\n",
        "data = load_breast_cancer()\n",
        "X = data.data  # Features.\n",
        "y = data.target  # Labels.\n",
        "\n",
        "# Split the dataset into training and testing sets.\n",
        "X_train, X_test, y_train, y_test = train_test_split(X, y, test_size=0.2, random_state=42)\n",
        "\n",
        "# Print basic information.\n",
        "print(\"Number of features:\", X.shape[1])\n",
        "print(\"Number of classes:\", len(set(y)))\n",
        "print(\"Training samples:\", X_train.shape[0])\n",
        "print(\"Testing samples:\", X_test.shape[0])"
      ],
      "metadata": {
        "colab": {
          "base_uri": "https://localhost:8080/"
        },
        "id": "AhDhHceKNq7y",
        "outputId": "cd7183e0-551f-461a-d8fc-5162f0e3c7b9"
      },
      "execution_count": null,
      "outputs": [
        {
          "output_type": "stream",
          "name": "stdout",
          "text": [
            "Number of features: 30\n",
            "Number of classes: 2\n",
            "Training samples: 455\n",
            "Testing samples: 114\n"
          ]
        }
      ]
    },
    {
      "cell_type": "markdown",
      "source": [
        "**Dataset information:**\n",
        "-\tThe dataset includes 30 features, such as mean radius, mean texture, and mean perimeter, which describe various clinical and pathological characteristics of tumors.\n",
        "-\tThe dataset contains two target classes: 0: Benign and 1: Malignant.\n",
        "-\tTraining Samples: 80% of the dataset (used for training the models).\n",
        "-\tTesting Samples: 20% of the dataset (used for evaluating model performance).\n"
      ],
      "metadata": {
        "id": "ncyTQSadEAps"
      }
    },
    {
      "cell_type": "markdown",
      "source": [
        "\n",
        "\n",
        "---\n",
        "\n"
      ],
      "metadata": {
        "id": "GucR4Co2D7jj"
      }
    },
    {
      "cell_type": "code",
      "source": [
        "# Create a DataFrame.\n",
        "df = pd.DataFrame(data.data, columns=data.feature_names)\n",
        "df['target'] = data.target"
      ],
      "metadata": {
        "id": "ocGq_8kzaDh6"
      },
      "execution_count": null,
      "outputs": []
    },
    {
      "cell_type": "code",
      "source": [
        "df.info()"
      ],
      "metadata": {
        "colab": {
          "base_uri": "https://localhost:8080/"
        },
        "collapsed": true,
        "id": "-ktfJ-7YZ_1c",
        "outputId": "6f9d1ed9-dfb3-4e1f-a370-aee040b95e77"
      },
      "execution_count": null,
      "outputs": [
        {
          "output_type": "stream",
          "name": "stdout",
          "text": [
            "<class 'pandas.core.frame.DataFrame'>\n",
            "RangeIndex: 569 entries, 0 to 568\n",
            "Data columns (total 31 columns):\n",
            " #   Column                   Non-Null Count  Dtype  \n",
            "---  ------                   --------------  -----  \n",
            " 0   mean radius              569 non-null    float64\n",
            " 1   mean texture             569 non-null    float64\n",
            " 2   mean perimeter           569 non-null    float64\n",
            " 3   mean area                569 non-null    float64\n",
            " 4   mean smoothness          569 non-null    float64\n",
            " 5   mean compactness         569 non-null    float64\n",
            " 6   mean concavity           569 non-null    float64\n",
            " 7   mean concave points      569 non-null    float64\n",
            " 8   mean symmetry            569 non-null    float64\n",
            " 9   mean fractal dimension   569 non-null    float64\n",
            " 10  radius error             569 non-null    float64\n",
            " 11  texture error            569 non-null    float64\n",
            " 12  perimeter error          569 non-null    float64\n",
            " 13  area error               569 non-null    float64\n",
            " 14  smoothness error         569 non-null    float64\n",
            " 15  compactness error        569 non-null    float64\n",
            " 16  concavity error          569 non-null    float64\n",
            " 17  concave points error     569 non-null    float64\n",
            " 18  symmetry error           569 non-null    float64\n",
            " 19  fractal dimension error  569 non-null    float64\n",
            " 20  worst radius             569 non-null    float64\n",
            " 21  worst texture            569 non-null    float64\n",
            " 22  worst perimeter          569 non-null    float64\n",
            " 23  worst area               569 non-null    float64\n",
            " 24  worst smoothness         569 non-null    float64\n",
            " 25  worst compactness        569 non-null    float64\n",
            " 26  worst concavity          569 non-null    float64\n",
            " 27  worst concave points     569 non-null    float64\n",
            " 28  worst symmetry           569 non-null    float64\n",
            " 29  worst fractal dimension  569 non-null    float64\n",
            " 30  target                   569 non-null    int64  \n",
            "dtypes: float64(30), int64(1)\n",
            "memory usage: 137.9 KB\n"
          ]
        }
      ]
    },
    {
      "cell_type": "markdown",
      "source": [
        "**Dataset Overview:**\n",
        "\n",
        "- Number of Instances: 569\n",
        "\n",
        "- Number of Features: 31\n",
        "\n",
        " * 30 numeric features (float64) describing characteristics of cell nuclei.\n",
        "\n",
        " * 1 target variable (int64), indicating whether the tumor is malignant (1) or benign (0).\n",
        "\n",
        "- No Missing Values: All features have 569 non-null entries, meaning the dataset is complete and does not require handling of missing values."
      ],
      "metadata": {
        "id": "ZHc3SEZeumGj"
      }
    },
    {
      "cell_type": "markdown",
      "source": [
        "\n",
        "\n",
        "---\n",
        "\n"
      ],
      "metadata": {
        "id": "pxg1w7MPFHg3"
      }
    },
    {
      "cell_type": "code",
      "source": [
        "df.head()"
      ],
      "metadata": {
        "colab": {
          "base_uri": "https://localhost:8080/"
        },
        "collapsed": true,
        "id": "TQ3jZLL0Uhid",
        "outputId": "1e7e549c-1b5e-4174-ce56-d69139eb7a7d"
      },
      "execution_count": null,
      "outputs": [
        {
          "output_type": "execute_result",
          "data": {
            "text/plain": [
              "   mean radius  mean texture  mean perimeter  mean area  mean smoothness  \\\n",
              "0        17.99         10.38          122.80     1001.0          0.11840   \n",
              "1        20.57         17.77          132.90     1326.0          0.08474   \n",
              "2        19.69         21.25          130.00     1203.0          0.10960   \n",
              "3        11.42         20.38           77.58      386.1          0.14250   \n",
              "4        20.29         14.34          135.10     1297.0          0.10030   \n",
              "\n",
              "   mean compactness  mean concavity  mean concave points  mean symmetry  \\\n",
              "0           0.27760          0.3001              0.14710         0.2419   \n",
              "1           0.07864          0.0869              0.07017         0.1812   \n",
              "2           0.15990          0.1974              0.12790         0.2069   \n",
              "3           0.28390          0.2414              0.10520         0.2597   \n",
              "4           0.13280          0.1980              0.10430         0.1809   \n",
              "\n",
              "   mean fractal dimension  ...  worst texture  worst perimeter  worst area  \\\n",
              "0                 0.07871  ...          17.33           184.60      2019.0   \n",
              "1                 0.05667  ...          23.41           158.80      1956.0   \n",
              "2                 0.05999  ...          25.53           152.50      1709.0   \n",
              "3                 0.09744  ...          26.50            98.87       567.7   \n",
              "4                 0.05883  ...          16.67           152.20      1575.0   \n",
              "\n",
              "   worst smoothness  worst compactness  worst concavity  worst concave points  \\\n",
              "0            0.1622             0.6656           0.7119                0.2654   \n",
              "1            0.1238             0.1866           0.2416                0.1860   \n",
              "2            0.1444             0.4245           0.4504                0.2430   \n",
              "3            0.2098             0.8663           0.6869                0.2575   \n",
              "4            0.1374             0.2050           0.4000                0.1625   \n",
              "\n",
              "   worst symmetry  worst fractal dimension  target  \n",
              "0          0.4601                  0.11890       0  \n",
              "1          0.2750                  0.08902       0  \n",
              "2          0.3613                  0.08758       0  \n",
              "3          0.6638                  0.17300       0  \n",
              "4          0.2364                  0.07678       0  \n",
              "\n",
              "[5 rows x 31 columns]"
            ],
            "text/html": [
              "\n",
              "  <div id=\"df-dbfa6c19-6abf-4530-bfb8-c1feb6651c29\" class=\"colab-df-container\">\n",
              "    <div>\n",
              "<style scoped>\n",
              "    .dataframe tbody tr th:only-of-type {\n",
              "        vertical-align: middle;\n",
              "    }\n",
              "\n",
              "    .dataframe tbody tr th {\n",
              "        vertical-align: top;\n",
              "    }\n",
              "\n",
              "    .dataframe thead th {\n",
              "        text-align: right;\n",
              "    }\n",
              "</style>\n",
              "<table border=\"1\" class=\"dataframe\">\n",
              "  <thead>\n",
              "    <tr style=\"text-align: right;\">\n",
              "      <th></th>\n",
              "      <th>mean radius</th>\n",
              "      <th>mean texture</th>\n",
              "      <th>mean perimeter</th>\n",
              "      <th>mean area</th>\n",
              "      <th>mean smoothness</th>\n",
              "      <th>mean compactness</th>\n",
              "      <th>mean concavity</th>\n",
              "      <th>mean concave points</th>\n",
              "      <th>mean symmetry</th>\n",
              "      <th>mean fractal dimension</th>\n",
              "      <th>...</th>\n",
              "      <th>worst texture</th>\n",
              "      <th>worst perimeter</th>\n",
              "      <th>worst area</th>\n",
              "      <th>worst smoothness</th>\n",
              "      <th>worst compactness</th>\n",
              "      <th>worst concavity</th>\n",
              "      <th>worst concave points</th>\n",
              "      <th>worst symmetry</th>\n",
              "      <th>worst fractal dimension</th>\n",
              "      <th>target</th>\n",
              "    </tr>\n",
              "  </thead>\n",
              "  <tbody>\n",
              "    <tr>\n",
              "      <th>0</th>\n",
              "      <td>17.99</td>\n",
              "      <td>10.38</td>\n",
              "      <td>122.80</td>\n",
              "      <td>1001.0</td>\n",
              "      <td>0.11840</td>\n",
              "      <td>0.27760</td>\n",
              "      <td>0.3001</td>\n",
              "      <td>0.14710</td>\n",
              "      <td>0.2419</td>\n",
              "      <td>0.07871</td>\n",
              "      <td>...</td>\n",
              "      <td>17.33</td>\n",
              "      <td>184.60</td>\n",
              "      <td>2019.0</td>\n",
              "      <td>0.1622</td>\n",
              "      <td>0.6656</td>\n",
              "      <td>0.7119</td>\n",
              "      <td>0.2654</td>\n",
              "      <td>0.4601</td>\n",
              "      <td>0.11890</td>\n",
              "      <td>0</td>\n",
              "    </tr>\n",
              "    <tr>\n",
              "      <th>1</th>\n",
              "      <td>20.57</td>\n",
              "      <td>17.77</td>\n",
              "      <td>132.90</td>\n",
              "      <td>1326.0</td>\n",
              "      <td>0.08474</td>\n",
              "      <td>0.07864</td>\n",
              "      <td>0.0869</td>\n",
              "      <td>0.07017</td>\n",
              "      <td>0.1812</td>\n",
              "      <td>0.05667</td>\n",
              "      <td>...</td>\n",
              "      <td>23.41</td>\n",
              "      <td>158.80</td>\n",
              "      <td>1956.0</td>\n",
              "      <td>0.1238</td>\n",
              "      <td>0.1866</td>\n",
              "      <td>0.2416</td>\n",
              "      <td>0.1860</td>\n",
              "      <td>0.2750</td>\n",
              "      <td>0.08902</td>\n",
              "      <td>0</td>\n",
              "    </tr>\n",
              "    <tr>\n",
              "      <th>2</th>\n",
              "      <td>19.69</td>\n",
              "      <td>21.25</td>\n",
              "      <td>130.00</td>\n",
              "      <td>1203.0</td>\n",
              "      <td>0.10960</td>\n",
              "      <td>0.15990</td>\n",
              "      <td>0.1974</td>\n",
              "      <td>0.12790</td>\n",
              "      <td>0.2069</td>\n",
              "      <td>0.05999</td>\n",
              "      <td>...</td>\n",
              "      <td>25.53</td>\n",
              "      <td>152.50</td>\n",
              "      <td>1709.0</td>\n",
              "      <td>0.1444</td>\n",
              "      <td>0.4245</td>\n",
              "      <td>0.4504</td>\n",
              "      <td>0.2430</td>\n",
              "      <td>0.3613</td>\n",
              "      <td>0.08758</td>\n",
              "      <td>0</td>\n",
              "    </tr>\n",
              "    <tr>\n",
              "      <th>3</th>\n",
              "      <td>11.42</td>\n",
              "      <td>20.38</td>\n",
              "      <td>77.58</td>\n",
              "      <td>386.1</td>\n",
              "      <td>0.14250</td>\n",
              "      <td>0.28390</td>\n",
              "      <td>0.2414</td>\n",
              "      <td>0.10520</td>\n",
              "      <td>0.2597</td>\n",
              "      <td>0.09744</td>\n",
              "      <td>...</td>\n",
              "      <td>26.50</td>\n",
              "      <td>98.87</td>\n",
              "      <td>567.7</td>\n",
              "      <td>0.2098</td>\n",
              "      <td>0.8663</td>\n",
              "      <td>0.6869</td>\n",
              "      <td>0.2575</td>\n",
              "      <td>0.6638</td>\n",
              "      <td>0.17300</td>\n",
              "      <td>0</td>\n",
              "    </tr>\n",
              "    <tr>\n",
              "      <th>4</th>\n",
              "      <td>20.29</td>\n",
              "      <td>14.34</td>\n",
              "      <td>135.10</td>\n",
              "      <td>1297.0</td>\n",
              "      <td>0.10030</td>\n",
              "      <td>0.13280</td>\n",
              "      <td>0.1980</td>\n",
              "      <td>0.10430</td>\n",
              "      <td>0.1809</td>\n",
              "      <td>0.05883</td>\n",
              "      <td>...</td>\n",
              "      <td>16.67</td>\n",
              "      <td>152.20</td>\n",
              "      <td>1575.0</td>\n",
              "      <td>0.1374</td>\n",
              "      <td>0.2050</td>\n",
              "      <td>0.4000</td>\n",
              "      <td>0.1625</td>\n",
              "      <td>0.2364</td>\n",
              "      <td>0.07678</td>\n",
              "      <td>0</td>\n",
              "    </tr>\n",
              "  </tbody>\n",
              "</table>\n",
              "<p>5 rows × 31 columns</p>\n",
              "</div>\n",
              "    <div class=\"colab-df-buttons\">\n",
              "\n",
              "  <div class=\"colab-df-container\">\n",
              "    <button class=\"colab-df-convert\" onclick=\"convertToInteractive('df-dbfa6c19-6abf-4530-bfb8-c1feb6651c29')\"\n",
              "            title=\"Convert this dataframe to an interactive table.\"\n",
              "            style=\"display:none;\">\n",
              "\n",
              "  <svg xmlns=\"http://www.w3.org/2000/svg\" height=\"24px\" viewBox=\"0 -960 960 960\">\n",
              "    <path d=\"M120-120v-720h720v720H120Zm60-500h600v-160H180v160Zm220 220h160v-160H400v160Zm0 220h160v-160H400v160ZM180-400h160v-160H180v160Zm440 0h160v-160H620v160ZM180-180h160v-160H180v160Zm440 0h160v-160H620v160Z\"/>\n",
              "  </svg>\n",
              "    </button>\n",
              "\n",
              "  <style>\n",
              "    .colab-df-container {\n",
              "      display:flex;\n",
              "      gap: 12px;\n",
              "    }\n",
              "\n",
              "    .colab-df-convert {\n",
              "      background-color: #E8F0FE;\n",
              "      border: none;\n",
              "      border-radius: 50%;\n",
              "      cursor: pointer;\n",
              "      display: none;\n",
              "      fill: #1967D2;\n",
              "      height: 32px;\n",
              "      padding: 0 0 0 0;\n",
              "      width: 32px;\n",
              "    }\n",
              "\n",
              "    .colab-df-convert:hover {\n",
              "      background-color: #E2EBFA;\n",
              "      box-shadow: 0px 1px 2px rgba(60, 64, 67, 0.3), 0px 1px 3px 1px rgba(60, 64, 67, 0.15);\n",
              "      fill: #174EA6;\n",
              "    }\n",
              "\n",
              "    .colab-df-buttons div {\n",
              "      margin-bottom: 4px;\n",
              "    }\n",
              "\n",
              "    [theme=dark] .colab-df-convert {\n",
              "      background-color: #3B4455;\n",
              "      fill: #D2E3FC;\n",
              "    }\n",
              "\n",
              "    [theme=dark] .colab-df-convert:hover {\n",
              "      background-color: #434B5C;\n",
              "      box-shadow: 0px 1px 3px 1px rgba(0, 0, 0, 0.15);\n",
              "      filter: drop-shadow(0px 1px 2px rgba(0, 0, 0, 0.3));\n",
              "      fill: #FFFFFF;\n",
              "    }\n",
              "  </style>\n",
              "\n",
              "    <script>\n",
              "      const buttonEl =\n",
              "        document.querySelector('#df-dbfa6c19-6abf-4530-bfb8-c1feb6651c29 button.colab-df-convert');\n",
              "      buttonEl.style.display =\n",
              "        google.colab.kernel.accessAllowed ? 'block' : 'none';\n",
              "\n",
              "      async function convertToInteractive(key) {\n",
              "        const element = document.querySelector('#df-dbfa6c19-6abf-4530-bfb8-c1feb6651c29');\n",
              "        const dataTable =\n",
              "          await google.colab.kernel.invokeFunction('convertToInteractive',\n",
              "                                                    [key], {});\n",
              "        if (!dataTable) return;\n",
              "\n",
              "        const docLinkHtml = 'Like what you see? Visit the ' +\n",
              "          '<a target=\"_blank\" href=https://colab.research.google.com/notebooks/data_table.ipynb>data table notebook</a>'\n",
              "          + ' to learn more about interactive tables.';\n",
              "        element.innerHTML = '';\n",
              "        dataTable['output_type'] = 'display_data';\n",
              "        await google.colab.output.renderOutput(dataTable, element);\n",
              "        const docLink = document.createElement('div');\n",
              "        docLink.innerHTML = docLinkHtml;\n",
              "        element.appendChild(docLink);\n",
              "      }\n",
              "    </script>\n",
              "  </div>\n",
              "\n",
              "\n",
              "<div id=\"df-4ebfb986-a4b9-4a36-97ff-1986d420d33c\">\n",
              "  <button class=\"colab-df-quickchart\" onclick=\"quickchart('df-4ebfb986-a4b9-4a36-97ff-1986d420d33c')\"\n",
              "            title=\"Suggest charts\"\n",
              "            style=\"display:none;\">\n",
              "\n",
              "<svg xmlns=\"http://www.w3.org/2000/svg\" height=\"24px\"viewBox=\"0 0 24 24\"\n",
              "     width=\"24px\">\n",
              "    <g>\n",
              "        <path d=\"M19 3H5c-1.1 0-2 .9-2 2v14c0 1.1.9 2 2 2h14c1.1 0 2-.9 2-2V5c0-1.1-.9-2-2-2zM9 17H7v-7h2v7zm4 0h-2V7h2v10zm4 0h-2v-4h2v4z\"/>\n",
              "    </g>\n",
              "</svg>\n",
              "  </button>\n",
              "\n",
              "<style>\n",
              "  .colab-df-quickchart {\n",
              "      --bg-color: #E8F0FE;\n",
              "      --fill-color: #1967D2;\n",
              "      --hover-bg-color: #E2EBFA;\n",
              "      --hover-fill-color: #174EA6;\n",
              "      --disabled-fill-color: #AAA;\n",
              "      --disabled-bg-color: #DDD;\n",
              "  }\n",
              "\n",
              "  [theme=dark] .colab-df-quickchart {\n",
              "      --bg-color: #3B4455;\n",
              "      --fill-color: #D2E3FC;\n",
              "      --hover-bg-color: #434B5C;\n",
              "      --hover-fill-color: #FFFFFF;\n",
              "      --disabled-bg-color: #3B4455;\n",
              "      --disabled-fill-color: #666;\n",
              "  }\n",
              "\n",
              "  .colab-df-quickchart {\n",
              "    background-color: var(--bg-color);\n",
              "    border: none;\n",
              "    border-radius: 50%;\n",
              "    cursor: pointer;\n",
              "    display: none;\n",
              "    fill: var(--fill-color);\n",
              "    height: 32px;\n",
              "    padding: 0;\n",
              "    width: 32px;\n",
              "  }\n",
              "\n",
              "  .colab-df-quickchart:hover {\n",
              "    background-color: var(--hover-bg-color);\n",
              "    box-shadow: 0 1px 2px rgba(60, 64, 67, 0.3), 0 1px 3px 1px rgba(60, 64, 67, 0.15);\n",
              "    fill: var(--button-hover-fill-color);\n",
              "  }\n",
              "\n",
              "  .colab-df-quickchart-complete:disabled,\n",
              "  .colab-df-quickchart-complete:disabled:hover {\n",
              "    background-color: var(--disabled-bg-color);\n",
              "    fill: var(--disabled-fill-color);\n",
              "    box-shadow: none;\n",
              "  }\n",
              "\n",
              "  .colab-df-spinner {\n",
              "    border: 2px solid var(--fill-color);\n",
              "    border-color: transparent;\n",
              "    border-bottom-color: var(--fill-color);\n",
              "    animation:\n",
              "      spin 1s steps(1) infinite;\n",
              "  }\n",
              "\n",
              "  @keyframes spin {\n",
              "    0% {\n",
              "      border-color: transparent;\n",
              "      border-bottom-color: var(--fill-color);\n",
              "      border-left-color: var(--fill-color);\n",
              "    }\n",
              "    20% {\n",
              "      border-color: transparent;\n",
              "      border-left-color: var(--fill-color);\n",
              "      border-top-color: var(--fill-color);\n",
              "    }\n",
              "    30% {\n",
              "      border-color: transparent;\n",
              "      border-left-color: var(--fill-color);\n",
              "      border-top-color: var(--fill-color);\n",
              "      border-right-color: var(--fill-color);\n",
              "    }\n",
              "    40% {\n",
              "      border-color: transparent;\n",
              "      border-right-color: var(--fill-color);\n",
              "      border-top-color: var(--fill-color);\n",
              "    }\n",
              "    60% {\n",
              "      border-color: transparent;\n",
              "      border-right-color: var(--fill-color);\n",
              "    }\n",
              "    80% {\n",
              "      border-color: transparent;\n",
              "      border-right-color: var(--fill-color);\n",
              "      border-bottom-color: var(--fill-color);\n",
              "    }\n",
              "    90% {\n",
              "      border-color: transparent;\n",
              "      border-bottom-color: var(--fill-color);\n",
              "    }\n",
              "  }\n",
              "</style>\n",
              "\n",
              "  <script>\n",
              "    async function quickchart(key) {\n",
              "      const quickchartButtonEl =\n",
              "        document.querySelector('#' + key + ' button');\n",
              "      quickchartButtonEl.disabled = true;  // To prevent multiple clicks.\n",
              "      quickchartButtonEl.classList.add('colab-df-spinner');\n",
              "      try {\n",
              "        const charts = await google.colab.kernel.invokeFunction(\n",
              "            'suggestCharts', [key], {});\n",
              "      } catch (error) {\n",
              "        console.error('Error during call to suggestCharts:', error);\n",
              "      }\n",
              "      quickchartButtonEl.classList.remove('colab-df-spinner');\n",
              "      quickchartButtonEl.classList.add('colab-df-quickchart-complete');\n",
              "    }\n",
              "    (() => {\n",
              "      let quickchartButtonEl =\n",
              "        document.querySelector('#df-4ebfb986-a4b9-4a36-97ff-1986d420d33c button');\n",
              "      quickchartButtonEl.style.display =\n",
              "        google.colab.kernel.accessAllowed ? 'block' : 'none';\n",
              "    })();\n",
              "  </script>\n",
              "</div>\n",
              "\n",
              "    </div>\n",
              "  </div>\n"
            ],
            "application/vnd.google.colaboratory.intrinsic+json": {
              "type": "dataframe",
              "variable_name": "df"
            }
          },
          "metadata": {},
          "execution_count": 5
        }
      ]
    },
    {
      "cell_type": "markdown",
      "source": [
        "This table shows the first five rows of the dataset, with 30 numerical features and a target column indicating tumor classification."
      ],
      "metadata": {
        "id": "xL1YqLAVGQ49"
      }
    },
    {
      "cell_type": "markdown",
      "source": [
        "\n",
        "\n",
        "---\n",
        "\n"
      ],
      "metadata": {
        "id": "Z58bGbueFsHN"
      }
    },
    {
      "cell_type": "code",
      "source": [
        "df.describe()"
      ],
      "metadata": {
        "colab": {
          "base_uri": "https://localhost:8080/"
        },
        "collapsed": true,
        "id": "Mwi6OllGaQA8",
        "outputId": "ea148abd-1ba2-4117-e888-9f98d98d1914"
      },
      "execution_count": null,
      "outputs": [
        {
          "output_type": "execute_result",
          "data": {
            "text/plain": [
              "       mean radius  mean texture  mean perimeter    mean area  \\\n",
              "count   569.000000    569.000000      569.000000   569.000000   \n",
              "mean     14.127292     19.289649       91.969033   654.889104   \n",
              "std       3.524049      4.301036       24.298981   351.914129   \n",
              "min       6.981000      9.710000       43.790000   143.500000   \n",
              "25%      11.700000     16.170000       75.170000   420.300000   \n",
              "50%      13.370000     18.840000       86.240000   551.100000   \n",
              "75%      15.780000     21.800000      104.100000   782.700000   \n",
              "max      28.110000     39.280000      188.500000  2501.000000   \n",
              "\n",
              "       mean smoothness  mean compactness  mean concavity  mean concave points  \\\n",
              "count       569.000000        569.000000      569.000000           569.000000   \n",
              "mean          0.096360          0.104341        0.088799             0.048919   \n",
              "std           0.014064          0.052813        0.079720             0.038803   \n",
              "min           0.052630          0.019380        0.000000             0.000000   \n",
              "25%           0.086370          0.064920        0.029560             0.020310   \n",
              "50%           0.095870          0.092630        0.061540             0.033500   \n",
              "75%           0.105300          0.130400        0.130700             0.074000   \n",
              "max           0.163400          0.345400        0.426800             0.201200   \n",
              "\n",
              "       mean symmetry  mean fractal dimension  ...  worst texture  \\\n",
              "count     569.000000              569.000000  ...     569.000000   \n",
              "mean        0.181162                0.062798  ...      25.677223   \n",
              "std         0.027414                0.007060  ...       6.146258   \n",
              "min         0.106000                0.049960  ...      12.020000   \n",
              "25%         0.161900                0.057700  ...      21.080000   \n",
              "50%         0.179200                0.061540  ...      25.410000   \n",
              "75%         0.195700                0.066120  ...      29.720000   \n",
              "max         0.304000                0.097440  ...      49.540000   \n",
              "\n",
              "       worst perimeter   worst area  worst smoothness  worst compactness  \\\n",
              "count       569.000000   569.000000        569.000000         569.000000   \n",
              "mean        107.261213   880.583128          0.132369           0.254265   \n",
              "std          33.602542   569.356993          0.022832           0.157336   \n",
              "min          50.410000   185.200000          0.071170           0.027290   \n",
              "25%          84.110000   515.300000          0.116600           0.147200   \n",
              "50%          97.660000   686.500000          0.131300           0.211900   \n",
              "75%         125.400000  1084.000000          0.146000           0.339100   \n",
              "max         251.200000  4254.000000          0.222600           1.058000   \n",
              "\n",
              "       worst concavity  worst concave points  worst symmetry  \\\n",
              "count       569.000000            569.000000      569.000000   \n",
              "mean          0.272188              0.114606        0.290076   \n",
              "std           0.208624              0.065732        0.061867   \n",
              "min           0.000000              0.000000        0.156500   \n",
              "25%           0.114500              0.064930        0.250400   \n",
              "50%           0.226700              0.099930        0.282200   \n",
              "75%           0.382900              0.161400        0.317900   \n",
              "max           1.252000              0.291000        0.663800   \n",
              "\n",
              "       worst fractal dimension      target  \n",
              "count               569.000000  569.000000  \n",
              "mean                  0.083946    0.627417  \n",
              "std                   0.018061    0.483918  \n",
              "min                   0.055040    0.000000  \n",
              "25%                   0.071460    0.000000  \n",
              "50%                   0.080040    1.000000  \n",
              "75%                   0.092080    1.000000  \n",
              "max                   0.207500    1.000000  \n",
              "\n",
              "[8 rows x 31 columns]"
            ],
            "text/html": [
              "\n",
              "  <div id=\"df-0795d557-7312-47b1-b3b1-07377a18cbd3\" class=\"colab-df-container\">\n",
              "    <div>\n",
              "<style scoped>\n",
              "    .dataframe tbody tr th:only-of-type {\n",
              "        vertical-align: middle;\n",
              "    }\n",
              "\n",
              "    .dataframe tbody tr th {\n",
              "        vertical-align: top;\n",
              "    }\n",
              "\n",
              "    .dataframe thead th {\n",
              "        text-align: right;\n",
              "    }\n",
              "</style>\n",
              "<table border=\"1\" class=\"dataframe\">\n",
              "  <thead>\n",
              "    <tr style=\"text-align: right;\">\n",
              "      <th></th>\n",
              "      <th>mean radius</th>\n",
              "      <th>mean texture</th>\n",
              "      <th>mean perimeter</th>\n",
              "      <th>mean area</th>\n",
              "      <th>mean smoothness</th>\n",
              "      <th>mean compactness</th>\n",
              "      <th>mean concavity</th>\n",
              "      <th>mean concave points</th>\n",
              "      <th>mean symmetry</th>\n",
              "      <th>mean fractal dimension</th>\n",
              "      <th>...</th>\n",
              "      <th>worst texture</th>\n",
              "      <th>worst perimeter</th>\n",
              "      <th>worst area</th>\n",
              "      <th>worst smoothness</th>\n",
              "      <th>worst compactness</th>\n",
              "      <th>worst concavity</th>\n",
              "      <th>worst concave points</th>\n",
              "      <th>worst symmetry</th>\n",
              "      <th>worst fractal dimension</th>\n",
              "      <th>target</th>\n",
              "    </tr>\n",
              "  </thead>\n",
              "  <tbody>\n",
              "    <tr>\n",
              "      <th>count</th>\n",
              "      <td>569.000000</td>\n",
              "      <td>569.000000</td>\n",
              "      <td>569.000000</td>\n",
              "      <td>569.000000</td>\n",
              "      <td>569.000000</td>\n",
              "      <td>569.000000</td>\n",
              "      <td>569.000000</td>\n",
              "      <td>569.000000</td>\n",
              "      <td>569.000000</td>\n",
              "      <td>569.000000</td>\n",
              "      <td>...</td>\n",
              "      <td>569.000000</td>\n",
              "      <td>569.000000</td>\n",
              "      <td>569.000000</td>\n",
              "      <td>569.000000</td>\n",
              "      <td>569.000000</td>\n",
              "      <td>569.000000</td>\n",
              "      <td>569.000000</td>\n",
              "      <td>569.000000</td>\n",
              "      <td>569.000000</td>\n",
              "      <td>569.000000</td>\n",
              "    </tr>\n",
              "    <tr>\n",
              "      <th>mean</th>\n",
              "      <td>14.127292</td>\n",
              "      <td>19.289649</td>\n",
              "      <td>91.969033</td>\n",
              "      <td>654.889104</td>\n",
              "      <td>0.096360</td>\n",
              "      <td>0.104341</td>\n",
              "      <td>0.088799</td>\n",
              "      <td>0.048919</td>\n",
              "      <td>0.181162</td>\n",
              "      <td>0.062798</td>\n",
              "      <td>...</td>\n",
              "      <td>25.677223</td>\n",
              "      <td>107.261213</td>\n",
              "      <td>880.583128</td>\n",
              "      <td>0.132369</td>\n",
              "      <td>0.254265</td>\n",
              "      <td>0.272188</td>\n",
              "      <td>0.114606</td>\n",
              "      <td>0.290076</td>\n",
              "      <td>0.083946</td>\n",
              "      <td>0.627417</td>\n",
              "    </tr>\n",
              "    <tr>\n",
              "      <th>std</th>\n",
              "      <td>3.524049</td>\n",
              "      <td>4.301036</td>\n",
              "      <td>24.298981</td>\n",
              "      <td>351.914129</td>\n",
              "      <td>0.014064</td>\n",
              "      <td>0.052813</td>\n",
              "      <td>0.079720</td>\n",
              "      <td>0.038803</td>\n",
              "      <td>0.027414</td>\n",
              "      <td>0.007060</td>\n",
              "      <td>...</td>\n",
              "      <td>6.146258</td>\n",
              "      <td>33.602542</td>\n",
              "      <td>569.356993</td>\n",
              "      <td>0.022832</td>\n",
              "      <td>0.157336</td>\n",
              "      <td>0.208624</td>\n",
              "      <td>0.065732</td>\n",
              "      <td>0.061867</td>\n",
              "      <td>0.018061</td>\n",
              "      <td>0.483918</td>\n",
              "    </tr>\n",
              "    <tr>\n",
              "      <th>min</th>\n",
              "      <td>6.981000</td>\n",
              "      <td>9.710000</td>\n",
              "      <td>43.790000</td>\n",
              "      <td>143.500000</td>\n",
              "      <td>0.052630</td>\n",
              "      <td>0.019380</td>\n",
              "      <td>0.000000</td>\n",
              "      <td>0.000000</td>\n",
              "      <td>0.106000</td>\n",
              "      <td>0.049960</td>\n",
              "      <td>...</td>\n",
              "      <td>12.020000</td>\n",
              "      <td>50.410000</td>\n",
              "      <td>185.200000</td>\n",
              "      <td>0.071170</td>\n",
              "      <td>0.027290</td>\n",
              "      <td>0.000000</td>\n",
              "      <td>0.000000</td>\n",
              "      <td>0.156500</td>\n",
              "      <td>0.055040</td>\n",
              "      <td>0.000000</td>\n",
              "    </tr>\n",
              "    <tr>\n",
              "      <th>25%</th>\n",
              "      <td>11.700000</td>\n",
              "      <td>16.170000</td>\n",
              "      <td>75.170000</td>\n",
              "      <td>420.300000</td>\n",
              "      <td>0.086370</td>\n",
              "      <td>0.064920</td>\n",
              "      <td>0.029560</td>\n",
              "      <td>0.020310</td>\n",
              "      <td>0.161900</td>\n",
              "      <td>0.057700</td>\n",
              "      <td>...</td>\n",
              "      <td>21.080000</td>\n",
              "      <td>84.110000</td>\n",
              "      <td>515.300000</td>\n",
              "      <td>0.116600</td>\n",
              "      <td>0.147200</td>\n",
              "      <td>0.114500</td>\n",
              "      <td>0.064930</td>\n",
              "      <td>0.250400</td>\n",
              "      <td>0.071460</td>\n",
              "      <td>0.000000</td>\n",
              "    </tr>\n",
              "    <tr>\n",
              "      <th>50%</th>\n",
              "      <td>13.370000</td>\n",
              "      <td>18.840000</td>\n",
              "      <td>86.240000</td>\n",
              "      <td>551.100000</td>\n",
              "      <td>0.095870</td>\n",
              "      <td>0.092630</td>\n",
              "      <td>0.061540</td>\n",
              "      <td>0.033500</td>\n",
              "      <td>0.179200</td>\n",
              "      <td>0.061540</td>\n",
              "      <td>...</td>\n",
              "      <td>25.410000</td>\n",
              "      <td>97.660000</td>\n",
              "      <td>686.500000</td>\n",
              "      <td>0.131300</td>\n",
              "      <td>0.211900</td>\n",
              "      <td>0.226700</td>\n",
              "      <td>0.099930</td>\n",
              "      <td>0.282200</td>\n",
              "      <td>0.080040</td>\n",
              "      <td>1.000000</td>\n",
              "    </tr>\n",
              "    <tr>\n",
              "      <th>75%</th>\n",
              "      <td>15.780000</td>\n",
              "      <td>21.800000</td>\n",
              "      <td>104.100000</td>\n",
              "      <td>782.700000</td>\n",
              "      <td>0.105300</td>\n",
              "      <td>0.130400</td>\n",
              "      <td>0.130700</td>\n",
              "      <td>0.074000</td>\n",
              "      <td>0.195700</td>\n",
              "      <td>0.066120</td>\n",
              "      <td>...</td>\n",
              "      <td>29.720000</td>\n",
              "      <td>125.400000</td>\n",
              "      <td>1084.000000</td>\n",
              "      <td>0.146000</td>\n",
              "      <td>0.339100</td>\n",
              "      <td>0.382900</td>\n",
              "      <td>0.161400</td>\n",
              "      <td>0.317900</td>\n",
              "      <td>0.092080</td>\n",
              "      <td>1.000000</td>\n",
              "    </tr>\n",
              "    <tr>\n",
              "      <th>max</th>\n",
              "      <td>28.110000</td>\n",
              "      <td>39.280000</td>\n",
              "      <td>188.500000</td>\n",
              "      <td>2501.000000</td>\n",
              "      <td>0.163400</td>\n",
              "      <td>0.345400</td>\n",
              "      <td>0.426800</td>\n",
              "      <td>0.201200</td>\n",
              "      <td>0.304000</td>\n",
              "      <td>0.097440</td>\n",
              "      <td>...</td>\n",
              "      <td>49.540000</td>\n",
              "      <td>251.200000</td>\n",
              "      <td>4254.000000</td>\n",
              "      <td>0.222600</td>\n",
              "      <td>1.058000</td>\n",
              "      <td>1.252000</td>\n",
              "      <td>0.291000</td>\n",
              "      <td>0.663800</td>\n",
              "      <td>0.207500</td>\n",
              "      <td>1.000000</td>\n",
              "    </tr>\n",
              "  </tbody>\n",
              "</table>\n",
              "<p>8 rows × 31 columns</p>\n",
              "</div>\n",
              "    <div class=\"colab-df-buttons\">\n",
              "\n",
              "  <div class=\"colab-df-container\">\n",
              "    <button class=\"colab-df-convert\" onclick=\"convertToInteractive('df-0795d557-7312-47b1-b3b1-07377a18cbd3')\"\n",
              "            title=\"Convert this dataframe to an interactive table.\"\n",
              "            style=\"display:none;\">\n",
              "\n",
              "  <svg xmlns=\"http://www.w3.org/2000/svg\" height=\"24px\" viewBox=\"0 -960 960 960\">\n",
              "    <path d=\"M120-120v-720h720v720H120Zm60-500h600v-160H180v160Zm220 220h160v-160H400v160Zm0 220h160v-160H400v160ZM180-400h160v-160H180v160Zm440 0h160v-160H620v160ZM180-180h160v-160H180v160Zm440 0h160v-160H620v160Z\"/>\n",
              "  </svg>\n",
              "    </button>\n",
              "\n",
              "  <style>\n",
              "    .colab-df-container {\n",
              "      display:flex;\n",
              "      gap: 12px;\n",
              "    }\n",
              "\n",
              "    .colab-df-convert {\n",
              "      background-color: #E8F0FE;\n",
              "      border: none;\n",
              "      border-radius: 50%;\n",
              "      cursor: pointer;\n",
              "      display: none;\n",
              "      fill: #1967D2;\n",
              "      height: 32px;\n",
              "      padding: 0 0 0 0;\n",
              "      width: 32px;\n",
              "    }\n",
              "\n",
              "    .colab-df-convert:hover {\n",
              "      background-color: #E2EBFA;\n",
              "      box-shadow: 0px 1px 2px rgba(60, 64, 67, 0.3), 0px 1px 3px 1px rgba(60, 64, 67, 0.15);\n",
              "      fill: #174EA6;\n",
              "    }\n",
              "\n",
              "    .colab-df-buttons div {\n",
              "      margin-bottom: 4px;\n",
              "    }\n",
              "\n",
              "    [theme=dark] .colab-df-convert {\n",
              "      background-color: #3B4455;\n",
              "      fill: #D2E3FC;\n",
              "    }\n",
              "\n",
              "    [theme=dark] .colab-df-convert:hover {\n",
              "      background-color: #434B5C;\n",
              "      box-shadow: 0px 1px 3px 1px rgba(0, 0, 0, 0.15);\n",
              "      filter: drop-shadow(0px 1px 2px rgba(0, 0, 0, 0.3));\n",
              "      fill: #FFFFFF;\n",
              "    }\n",
              "  </style>\n",
              "\n",
              "    <script>\n",
              "      const buttonEl =\n",
              "        document.querySelector('#df-0795d557-7312-47b1-b3b1-07377a18cbd3 button.colab-df-convert');\n",
              "      buttonEl.style.display =\n",
              "        google.colab.kernel.accessAllowed ? 'block' : 'none';\n",
              "\n",
              "      async function convertToInteractive(key) {\n",
              "        const element = document.querySelector('#df-0795d557-7312-47b1-b3b1-07377a18cbd3');\n",
              "        const dataTable =\n",
              "          await google.colab.kernel.invokeFunction('convertToInteractive',\n",
              "                                                    [key], {});\n",
              "        if (!dataTable) return;\n",
              "\n",
              "        const docLinkHtml = 'Like what you see? Visit the ' +\n",
              "          '<a target=\"_blank\" href=https://colab.research.google.com/notebooks/data_table.ipynb>data table notebook</a>'\n",
              "          + ' to learn more about interactive tables.';\n",
              "        element.innerHTML = '';\n",
              "        dataTable['output_type'] = 'display_data';\n",
              "        await google.colab.output.renderOutput(dataTable, element);\n",
              "        const docLink = document.createElement('div');\n",
              "        docLink.innerHTML = docLinkHtml;\n",
              "        element.appendChild(docLink);\n",
              "      }\n",
              "    </script>\n",
              "  </div>\n",
              "\n",
              "\n",
              "<div id=\"df-36149836-3d18-4ea6-bb10-b9be19443486\">\n",
              "  <button class=\"colab-df-quickchart\" onclick=\"quickchart('df-36149836-3d18-4ea6-bb10-b9be19443486')\"\n",
              "            title=\"Suggest charts\"\n",
              "            style=\"display:none;\">\n",
              "\n",
              "<svg xmlns=\"http://www.w3.org/2000/svg\" height=\"24px\"viewBox=\"0 0 24 24\"\n",
              "     width=\"24px\">\n",
              "    <g>\n",
              "        <path d=\"M19 3H5c-1.1 0-2 .9-2 2v14c0 1.1.9 2 2 2h14c1.1 0 2-.9 2-2V5c0-1.1-.9-2-2-2zM9 17H7v-7h2v7zm4 0h-2V7h2v10zm4 0h-2v-4h2v4z\"/>\n",
              "    </g>\n",
              "</svg>\n",
              "  </button>\n",
              "\n",
              "<style>\n",
              "  .colab-df-quickchart {\n",
              "      --bg-color: #E8F0FE;\n",
              "      --fill-color: #1967D2;\n",
              "      --hover-bg-color: #E2EBFA;\n",
              "      --hover-fill-color: #174EA6;\n",
              "      --disabled-fill-color: #AAA;\n",
              "      --disabled-bg-color: #DDD;\n",
              "  }\n",
              "\n",
              "  [theme=dark] .colab-df-quickchart {\n",
              "      --bg-color: #3B4455;\n",
              "      --fill-color: #D2E3FC;\n",
              "      --hover-bg-color: #434B5C;\n",
              "      --hover-fill-color: #FFFFFF;\n",
              "      --disabled-bg-color: #3B4455;\n",
              "      --disabled-fill-color: #666;\n",
              "  }\n",
              "\n",
              "  .colab-df-quickchart {\n",
              "    background-color: var(--bg-color);\n",
              "    border: none;\n",
              "    border-radius: 50%;\n",
              "    cursor: pointer;\n",
              "    display: none;\n",
              "    fill: var(--fill-color);\n",
              "    height: 32px;\n",
              "    padding: 0;\n",
              "    width: 32px;\n",
              "  }\n",
              "\n",
              "  .colab-df-quickchart:hover {\n",
              "    background-color: var(--hover-bg-color);\n",
              "    box-shadow: 0 1px 2px rgba(60, 64, 67, 0.3), 0 1px 3px 1px rgba(60, 64, 67, 0.15);\n",
              "    fill: var(--button-hover-fill-color);\n",
              "  }\n",
              "\n",
              "  .colab-df-quickchart-complete:disabled,\n",
              "  .colab-df-quickchart-complete:disabled:hover {\n",
              "    background-color: var(--disabled-bg-color);\n",
              "    fill: var(--disabled-fill-color);\n",
              "    box-shadow: none;\n",
              "  }\n",
              "\n",
              "  .colab-df-spinner {\n",
              "    border: 2px solid var(--fill-color);\n",
              "    border-color: transparent;\n",
              "    border-bottom-color: var(--fill-color);\n",
              "    animation:\n",
              "      spin 1s steps(1) infinite;\n",
              "  }\n",
              "\n",
              "  @keyframes spin {\n",
              "    0% {\n",
              "      border-color: transparent;\n",
              "      border-bottom-color: var(--fill-color);\n",
              "      border-left-color: var(--fill-color);\n",
              "    }\n",
              "    20% {\n",
              "      border-color: transparent;\n",
              "      border-left-color: var(--fill-color);\n",
              "      border-top-color: var(--fill-color);\n",
              "    }\n",
              "    30% {\n",
              "      border-color: transparent;\n",
              "      border-left-color: var(--fill-color);\n",
              "      border-top-color: var(--fill-color);\n",
              "      border-right-color: var(--fill-color);\n",
              "    }\n",
              "    40% {\n",
              "      border-color: transparent;\n",
              "      border-right-color: var(--fill-color);\n",
              "      border-top-color: var(--fill-color);\n",
              "    }\n",
              "    60% {\n",
              "      border-color: transparent;\n",
              "      border-right-color: var(--fill-color);\n",
              "    }\n",
              "    80% {\n",
              "      border-color: transparent;\n",
              "      border-right-color: var(--fill-color);\n",
              "      border-bottom-color: var(--fill-color);\n",
              "    }\n",
              "    90% {\n",
              "      border-color: transparent;\n",
              "      border-bottom-color: var(--fill-color);\n",
              "    }\n",
              "  }\n",
              "</style>\n",
              "\n",
              "  <script>\n",
              "    async function quickchart(key) {\n",
              "      const quickchartButtonEl =\n",
              "        document.querySelector('#' + key + ' button');\n",
              "      quickchartButtonEl.disabled = true;  // To prevent multiple clicks.\n",
              "      quickchartButtonEl.classList.add('colab-df-spinner');\n",
              "      try {\n",
              "        const charts = await google.colab.kernel.invokeFunction(\n",
              "            'suggestCharts', [key], {});\n",
              "      } catch (error) {\n",
              "        console.error('Error during call to suggestCharts:', error);\n",
              "      }\n",
              "      quickchartButtonEl.classList.remove('colab-df-spinner');\n",
              "      quickchartButtonEl.classList.add('colab-df-quickchart-complete');\n",
              "    }\n",
              "    (() => {\n",
              "      let quickchartButtonEl =\n",
              "        document.querySelector('#df-36149836-3d18-4ea6-bb10-b9be19443486 button');\n",
              "      quickchartButtonEl.style.display =\n",
              "        google.colab.kernel.accessAllowed ? 'block' : 'none';\n",
              "    })();\n",
              "  </script>\n",
              "</div>\n",
              "\n",
              "    </div>\n",
              "  </div>\n"
            ],
            "application/vnd.google.colaboratory.intrinsic+json": {
              "type": "dataframe"
            }
          },
          "metadata": {},
          "execution_count": 6
        }
      ]
    },
    {
      "cell_type": "markdown",
      "source": [
        "Also this table summarizes the statistical properties of the dataset's features, including count, mean, standard deviation (std), minimum, maximum, and quartiles (25%, 50%, 75%). These statistics provide an overview of the distribution and range of the 30 numerical features used for tumor classification."
      ],
      "metadata": {
        "id": "-QM1sQkbGUtD"
      }
    },
    {
      "cell_type": "markdown",
      "source": [
        "\n",
        "\n",
        "---\n",
        "\n"
      ],
      "metadata": {
        "id": "alqgikGGGK10"
      }
    },
    {
      "cell_type": "markdown",
      "source": [
        "**Data Visualization**"
      ],
      "metadata": {
        "id": "P7uUoKIWZniD"
      }
    },
    {
      "cell_type": "code",
      "source": [
        "# plt.figure(figsize=(8, 6))\n",
        "# sns.pairplot(df, hue=\"target\", markers=[\"o\", \"s\"])\n",
        "# plt.show()"
      ],
      "metadata": {
        "collapsed": true,
        "id": "_8Pyutw-VTf1"
      },
      "execution_count": null,
      "outputs": []
    },
    {
      "cell_type": "markdown",
      "source": [
        "\n",
        "\n",
        "---\n",
        "\n"
      ],
      "metadata": {
        "id": "gntiOgq8Gbx8"
      }
    },
    {
      "cell_type": "markdown",
      "source": [
        "# **Part 1: K-Nearest Neighbors (KNN)**"
      ],
      "metadata": {
        "id": "phpBe7f5NVrP"
      }
    },
    {
      "cell_type": "markdown",
      "source": [
        "K-Nearest Neighbors (KNN) works by selecting the k nearest neighbors to a test point and assigning the class that is most common among those neighbors. The choice of k can greatly influence the performance of the KNN model."
      ],
      "metadata": {
        "id": "SOnOW4CUpIGi"
      }
    },
    {
      "cell_type": "markdown",
      "source": [
        "## ***Implement the KNN algorithm using APIs.***"
      ],
      "metadata": {
        "id": "ksfIXla6jVNx"
      }
    },
    {
      "cell_type": "code",
      "source": [
        "knn = KNeighborsClassifier(n_neighbors=2)\n",
        "# Train the model.\n",
        "knn.fit(X_train, y_train)\n",
        "# Make predictions.\n",
        "y_pred_API_k3 = knn.predict(X_test)"
      ],
      "metadata": {
        "id": "YhWuGWFahSpD"
      },
      "execution_count": null,
      "outputs": []
    },
    {
      "cell_type": "code",
      "source": [
        "knn = KNeighborsClassifier(n_neighbors=5)\n",
        "# Train the model.\n",
        "knn.fit(X_train, y_train)\n",
        "# Make predictions.\n",
        "y_pred_API_k5 = knn.predict(X_test)"
      ],
      "metadata": {
        "id": "pelyRSIvlMXV"
      },
      "execution_count": null,
      "outputs": []
    },
    {
      "cell_type": "code",
      "source": [
        "knn = KNeighborsClassifier(n_neighbors=10)\n",
        "# Train the model.\n",
        "knn.fit(X_train, y_train)\n",
        "# Make predictions.\n",
        "y_pred_API_k10 = knn.predict(X_test)"
      ],
      "metadata": {
        "id": "bO_qs4xHqrCl"
      },
      "execution_count": null,
      "outputs": []
    },
    {
      "cell_type": "code",
      "source": [
        "knn = KNeighborsClassifier(n_neighbors=15)\n",
        "# Train the model.\n",
        "knn.fit(X_train, y_train)\n",
        "# Make predictions.\n",
        "y_pred_API_k15 = knn.predict(X_test)"
      ],
      "metadata": {
        "id": "ipv4FnK4sAz6"
      },
      "execution_count": null,
      "outputs": []
    },
    {
      "cell_type": "code",
      "source": [
        "print(f\"Accuracy of the KNN model using APIs with k = 2 : {accuracy_score(y_test, y_pred_API_k3) * 100:.2f}%\")\n",
        "print(f\"Accuracy of the KNN model using APIs with k = 5 : {accuracy_score(y_test, y_pred_API_k5) * 100:.2f}%\")\n",
        "print(f\"Accuracy of the KNN model using APIs with k = 10 : {accuracy_score(y_test, y_pred_API_k10) * 100:.2f}%\")\n",
        "print(f\"Accuracy of the KNN model using APIs with k = 15 : {accuracy_score(y_test, y_pred_API_k15) * 100:.2f}%\")"
      ],
      "metadata": {
        "colab": {
          "base_uri": "https://localhost:8080/"
        },
        "id": "dJUqSevSlaGQ",
        "outputId": "cc150e24-f687-4b78-c291-db0e6395be8c"
      },
      "execution_count": null,
      "outputs": [
        {
          "output_type": "stream",
          "name": "stdout",
          "text": [
            "Accuracy of the KNN model using APIs with k = 2 : 92.98%\n",
            "Accuracy of the KNN model using APIs with k = 5 : 95.61%\n",
            "Accuracy of the KNN model using APIs with k = 10 : 97.37%\n",
            "Accuracy of the KNN model using APIs with k = 15 : 96.49%\n"
          ]
        }
      ]
    },
    {
      "cell_type": "markdown",
      "source": [
        "As k increases, the accuracy of the model improves, with k = 10 yielding the highest accuracy at 97.37%.\n",
        "\n",
        "k = 5 also provides strong performance with 95.61% accuracy.\n",
        "\n",
        "k = 15 shows a slight decrease in accuracy (96.49%), indicating that a smaller k might be more suitable for this particular dataset.\n",
        "\n",
        "The k = 10 value offers the best balance between accuracy and model performance, making it the most effective choice for this KNN model with the current dataset."
      ],
      "metadata": {
        "id": "JQ0XKet7Viyu"
      }
    },
    {
      "cell_type": "markdown",
      "source": [
        "\n",
        "\n",
        "---\n",
        "\n"
      ],
      "metadata": {
        "id": "IlXzBcUBIhHz"
      }
    },
    {
      "cell_type": "markdown",
      "source": [
        "## ***Implement the KNN algorithm using three different distance metrics.***"
      ],
      "metadata": {
        "id": "-JUR6wnZ6G_c"
      }
    },
    {
      "cell_type": "markdown",
      "source": [
        "### ***Implement the KNN algorithm using Euclidean distance.***"
      ],
      "metadata": {
        "id": "JYLjCd1LjehK"
      }
    },
    {
      "cell_type": "markdown",
      "source": [
        "**Euclidean distance** measures the straight-line distance between two points in multi-dimensional space. It is calculated using the formula:\n",
        "\n",
        "$$ \\text{Distance} = \\sqrt{(x_2 - x_1)^2 + (y_2 - y_1)^2} $$\n",
        "\n",
        "It is commonly used for continuous, well-scaled data and is ideal for well-separated data points. However, it can be sensitive to outliers and becomes less effective in high-dimensional spaces due to the **curse of dimensionality**."
      ],
      "metadata": {
        "id": "vQpZZeBxo_1z"
      }
    },
    {
      "cell_type": "code",
      "source": [
        "knn = KNeighborsClassifier(n_neighbors=10, metric='euclidean')\n",
        "knn.fit(X_train, y_train)\n",
        "y_pred_euclidean= knn.predict(X_test)"
      ],
      "metadata": {
        "id": "V5kvhCVkj96B"
      },
      "execution_count": null,
      "outputs": []
    },
    {
      "cell_type": "markdown",
      "source": [
        "\n",
        "\n",
        "---\n",
        "\n"
      ],
      "metadata": {
        "id": "ke6pAESqKA57"
      }
    },
    {
      "cell_type": "markdown",
      "source": [
        "### ***Implement the KNN algorithm using Manhattan distance.***"
      ],
      "metadata": {
        "id": "AtYqROUoj59f"
      }
    },
    {
      "cell_type": "markdown",
      "source": [
        "**Manhattan distance** (city block distance) calculates the distance between two points by summing the absolute differences of their coordinates. The formula is:\n",
        "\n",
        "$$ \\text{Distance} = |x_2 - x_1| + |y_2 - y_1| $$\n",
        "\n",
        "It is less sensitive to outliers compared to Euclidean distance and works well in high-dimensional spaces or grid-based data. However, it may not capture diagonal or angular distances as effectively."
      ],
      "metadata": {
        "id": "Wl9MB9fcp5Tj"
      }
    },
    {
      "cell_type": "code",
      "source": [
        "knn = KNeighborsClassifier(n_neighbors=10, metric='manhattan')\n",
        "knn.fit(X_train, y_train)\n",
        "y_pred_manhattan = knn.predict(X_test)"
      ],
      "metadata": {
        "id": "x97r73Grj-O8"
      },
      "execution_count": null,
      "outputs": []
    },
    {
      "cell_type": "markdown",
      "source": [
        "\n",
        "\n",
        "---\n",
        "\n"
      ],
      "metadata": {
        "id": "k0YER86bKD1A"
      }
    },
    {
      "cell_type": "markdown",
      "source": [
        "### ***Implement the KNN algorithm using Cosine distance.***"
      ],
      "metadata": {
        "id": "HnQSaW7Cj7zx"
      }
    },
    {
      "cell_type": "markdown",
      "source": [
        "**Cosine distance** measures the dissimilarity between two vectors based on the angle between them, calculated as:\n",
        "\n",
        "$$ \\text{Distance} = 1 - \\frac{\\langle A, B \\rangle}{\\|A\\| \\|B\\|} $$\n",
        "\n",
        "It ranges from 0 (identical direction) to 1 (completely dissimilar) and is useful for high-dimensional or sparse data, like text, where the direction matters more than the magnitude."
      ],
      "metadata": {
        "id": "kHl0u2BRqCcK"
      }
    },
    {
      "cell_type": "code",
      "source": [
        "knn = KNeighborsClassifier(n_neighbors=10, metric='cosine')\n",
        "knn.fit(X_train, y_train)\n",
        "y_pred_cosine = knn.predict(X_test)"
      ],
      "metadata": {
        "id": "8f2K3vrdj84B"
      },
      "execution_count": null,
      "outputs": []
    },
    {
      "cell_type": "markdown",
      "source": [
        "\n",
        "\n",
        "---\n",
        "\n"
      ],
      "metadata": {
        "id": "ZDsnY3ozKHVV"
      }
    },
    {
      "cell_type": "markdown",
      "source": [
        "## ***Compare impact of changing  distance metrics on the model's performance.***"
      ],
      "metadata": {
        "id": "My8cNqEIkZmS"
      }
    },
    {
      "cell_type": "code",
      "source": [
        "# Euclidean Distance.\n",
        "print(\"Euclidean Distance:\")\n",
        "print(f\"Accuracy: {accuracy_score(y_test, y_pred_euclidean) * 100:.2f}%\")\n",
        "print(f\"Precision: {precision_score(y_test, y_pred_euclidean) * 100:.2f}%\")\n",
        "print(f\"Recall: {recall_score(y_test, y_pred_euclidean) * 100:.2f}%\")\n",
        "print(f\"F1-Score: {f1_score(y_test, y_pred_euclidean) * 100:.2f}%\")\n",
        "print(f\"ROC-AUC: {roc_auc_score(y_test, y_pred_euclidean)*100:.2f}%\")\n",
        "print(\"\\n\")\n",
        "\n",
        "# Manhattan Distance.\n",
        "print(\"Manhattan Distance:\")\n",
        "print(f\"Accuracy: {accuracy_score(y_test, y_pred_manhattan) * 100:.2f}%\")\n",
        "print(f\"Precision: {precision_score(y_test, y_pred_manhattan) * 100:.2f}%\")\n",
        "print(f\"Recall: {recall_score(y_test, y_pred_manhattan) * 100:.2f}%\")\n",
        "print(f\"F1-Score: {f1_score(y_test, y_pred_manhattan) * 100:.2f}%\")\n",
        "print(f\"ROC-AUC: {roc_auc_score(y_test, y_pred_manhattan)*100:.2f}%\")\n",
        "print(\"\\n\")\n",
        "\n",
        "# Cosine Distance.\n",
        "print(\"Cosine Distance:\")\n",
        "print(f\"Accuracy: {accuracy_score(y_test, y_pred_cosine) * 100:.2f}%\")\n",
        "print(f\"Precision: {precision_score(y_test, y_pred_cosine) * 100:.2f}%\")\n",
        "print(f\"Recall: {recall_score(y_test, y_pred_cosine) * 100:.2f}%\")\n",
        "print(f\"F1-Score: {f1_score(y_test, y_pred_cosine) * 100:.2f}%\")\n",
        "print(f\"ROC-AUC: {roc_auc_score(y_test, y_pred_cosine)*100:.2f}%\")"
      ],
      "metadata": {
        "colab": {
          "base_uri": "https://localhost:8080/"
        },
        "id": "tfYjBXM5jQ1A",
        "outputId": "3b315e32-1e0c-4f22-b322-79c8f316d30a"
      },
      "execution_count": null,
      "outputs": [
        {
          "output_type": "stream",
          "name": "stdout",
          "text": [
            "Euclidean Distance:\n",
            "Accuracy: 97.37%\n",
            "Precision: 97.22%\n",
            "Recall: 98.59%\n",
            "F1-Score: 97.90%\n",
            "ROC-AUC: 96.97%\n",
            "\n",
            "\n",
            "Manhattan Distance:\n",
            "Accuracy: 97.37%\n",
            "Precision: 97.22%\n",
            "Recall: 98.59%\n",
            "F1-Score: 97.90%\n",
            "ROC-AUC: 96.97%\n",
            "\n",
            "\n",
            "Cosine Distance:\n",
            "Accuracy: 95.61%\n",
            "Precision: 94.59%\n",
            "Recall: 98.59%\n",
            "F1-Score: 96.55%\n",
            "ROC-AUC: 94.64%\n"
          ]
        }
      ]
    },
    {
      "cell_type": "markdown",
      "source": [
        "**Euclidean** and **Manhattan Distance** perform equally well, providing the best overall metrics, with **Cosine Distance** having a marginally lower performance.\n",
        "\n",
        "Both **Euclidean** and **Manhattan Distance** have the highest **accuracy** and **F1-Score**, making them the preferred choices for this particular KNN model.\n",
        "  \n",
        "In this case, **Euclidean** and **Manhattan Distance** are the best choices for the KNN model based on their higher accuracy and other evaluation metrics compared to **Cosine Distance**."
      ],
      "metadata": {
        "id": "2otGLxBeWtLD"
      }
    },
    {
      "cell_type": "markdown",
      "source": [
        "\n",
        "\n",
        "---\n",
        "\n"
      ],
      "metadata": {
        "id": "LoBenf4QMesN"
      }
    },
    {
      "cell_type": "markdown",
      "source": [
        "## ***Determine the optimal value of K (number of neighbors) using cross-validation.***\n"
      ],
      "metadata": {
        "id": "vXuttooFm4UG"
      }
    },
    {
      "cell_type": "markdown",
      "source": [
        "Cross-validation plays a key role in selecting the best k by helping to prevent overfitting. It tests the model on different subsets of the data, ensuring that the selected k-value generalizes effectively and maintains consistent performance across various data splits."
      ],
      "metadata": {
        "id": "XlhRmyKlo8Lm"
      }
    },
    {
      "cell_type": "code",
      "source": [
        "knn = KNeighborsClassifier()\n",
        "\n",
        "# Define the range of k values to test.\n",
        "param_grid = {'n_neighbors': list(range(1, 21))}\n",
        "\n",
        "# Set up GridSearchCV with 5-fold cross-validation.\n",
        "grid_search = GridSearchCV(estimator=knn, param_grid=param_grid, cv=5, scoring='accuracy')\n",
        "\n",
        "grid_search.fit(X_train, y_train)\n",
        "optimal_k = grid_search.best_params_['n_neighbors']\n",
        "\n",
        "print(f\"Optimal k (number of neighbors): {optimal_k}\")\n",
        "\n",
        "# Train the model with the optimal k-value.\n",
        "knn_optimal = KNeighborsClassifier(n_neighbors=optimal_k)\n",
        "knn_optimal.fit(X_train, y_train)\n",
        "y_pred_optimal = knn_optimal.predict(X_test)\n",
        "\n",
        "accuracy = accuracy_score(y_test, y_pred_optimal)\n",
        "print(f\"Accuracy of the KNN model with optimal k={optimal_k}: {accuracy * 100:.2f}%\")"
      ],
      "metadata": {
        "colab": {
          "base_uri": "https://localhost:8080/"
        },
        "id": "cWYmk96Em5AG",
        "outputId": "1a2173c9-4c51-48b7-acdb-da69556c7031"
      },
      "execution_count": null,
      "outputs": [
        {
          "output_type": "stream",
          "name": "stdout",
          "text": [
            "Optimal k (number of neighbors): 9\n",
            "Accuracy of the KNN model with optimal k=9: 95.61%\n"
          ]
        }
      ]
    },
    {
      "cell_type": "markdown",
      "source": [
        "The optimal value of **k** for the KNN model, determined through cross-validation, is **9**. This value was selected using a **GridSearchCV** with 5-fold cross-validation, which helps in identifying the best-performing k-value that generalizes well across different subsets of the data.\n",
        "\n",
        "After training the model with **k = 9**, the accuracy of the KNN model on the test set is **95.61%**, which aligns with the accuracy achieved when testing k-values of 5 and 10. Thus, **k = 9** offers a good balance between model complexity and performance."
      ],
      "metadata": {
        "id": "qNipD4qmYBxD"
      }
    },
    {
      "cell_type": "markdown",
      "source": [
        "\n",
        "\n",
        "---\n",
        "\n"
      ],
      "metadata": {
        "id": "mINStyZcNeNs"
      }
    },
    {
      "cell_type": "markdown",
      "source": [
        "# **Part 2: Logistic Regression**"
      ],
      "metadata": {
        "id": "n6ug30jlNXcU"
      }
    },
    {
      "cell_type": "code",
      "source": [
        "scaler = StandardScaler()\n",
        "X_train_scaled = scaler.fit_transform(X_train)\n",
        "X_test_scaled = scaler.transform(X_test)\n",
        "\n",
        "model = LogisticRegression()\n",
        "model.fit(X_train_scaled, y_train)\n",
        "y_pred = model.predict(X_test_scaled)"
      ],
      "metadata": {
        "id": "ncECvqOUttDy"
      },
      "execution_count": null,
      "outputs": []
    },
    {
      "cell_type": "code",
      "source": [
        "print(\"Logistic Regression :\")\n",
        "print(f\"Accuracy: {accuracy_score(y_test, y_pred)*100:.2f}%\")\n",
        "precision = precision_score(y_test, y_pred)\n",
        "print(f\"Precision: {precision*100:.2f}%\")\n",
        "recall = recall_score(y_test, y_pred)\n",
        "print(f\"Recall: {recall*100:.2f}%\")\n",
        "f1 = f1_score(y_test, y_pred)\n",
        "print(f\"F1 Score: {f1*100:.2f}%\")\n",
        "print(f\"ROC-AUC: {roc_auc_score(y_test, y_pred)*100:.2f}%\")"
      ],
      "metadata": {
        "colab": {
          "base_uri": "https://localhost:8080/"
        },
        "id": "_snhuYdFtyD8",
        "outputId": "522bef0b-5766-457e-8c7a-f46560c0bd11"
      },
      "execution_count": null,
      "outputs": [
        {
          "output_type": "stream",
          "name": "stdout",
          "text": [
            "Logistic Regression :\n",
            "Accuracy: 97.37%\n",
            "Precision: 97.22%\n",
            "Recall: 98.59%\n",
            "F1 Score: 97.90%\n",
            "ROC-AUC: 96.97%\n"
          ]
        }
      ]
    },
    {
      "cell_type": "markdown",
      "source": [
        "\n",
        "\n",
        "---\n",
        "\n"
      ],
      "metadata": {
        "id": "i70tbTxHOwK9"
      }
    },
    {
      "cell_type": "markdown",
      "source": [
        "**L1 Regularization (Lasso):**\n",
        "\n",
        "L1 regularization adds a penalty proportional to the absolute sum of the coefficients. It encourages sparsity, meaning some coefficients may become exactly zero, effectively performing feature selection.\n",
        "\n",
        "The cost function with L1 regularization is:\n",
        "$$\n",
        "J(\\theta) = \\frac{1}{m} \\sum_{i=1}^{m} \\left( -y_i \\log(h_\\theta(x_i)) - (1 - y_i) \\log(1 - h_\\theta(x_i)) \\right) + \\lambda \\sum_{j=1}^{n} |\\theta_j|\n",
        "$$\n"
      ],
      "metadata": {
        "id": "Q-UkW9TxvavW"
      }
    },
    {
      "cell_type": "code",
      "source": [
        "# Experiment with L1 Regularization (Lasso).\n",
        "model_l1 = LogisticRegression(penalty='l1', C=1.0, solver='liblinear', max_iter=1000)\n",
        "model_l1.fit(X_train, y_train)\n",
        "y_pred_l1 = model_l1.predict(X_test)"
      ],
      "metadata": {
        "id": "Gda1dUV4vuMF"
      },
      "execution_count": null,
      "outputs": []
    },
    {
      "cell_type": "markdown",
      "source": [
        "\n",
        "\n",
        "---\n",
        "\n"
      ],
      "metadata": {
        "id": "W5fXE-iPO-EM"
      }
    },
    {
      "cell_type": "markdown",
      "source": [
        "**L2 Regularization (Ridge):**\n",
        "\n",
        "L2 regularization adds a penalty proportional to the sum of the squared coefficients to the cost function. It encourages the model to minimize the values of coefficients, making them smaller, but not exactly zero.\n",
        "\n",
        "The cost function with L2 regularization is:\n",
        "\n",
        "$$\n",
        "J(\\theta) = \\frac{1}{m}\\sum_{i=1}^{m} \\left( -y_i \\log(h_\\theta(x_i)) - (1 - y_i) \\log(1 - h_\\theta(x_i)) \\right) + \\lambda \\sum_{j=1}^{n} \\theta_j^2\n",
        "$$\n",
        "\n"
      ],
      "metadata": {
        "id": "mJrqeJCbvDb_"
      }
    },
    {
      "cell_type": "code",
      "source": [
        "# Experiment with L2 Regularization (Ridge).\n",
        "model_l2 = LogisticRegression(penalty='l2', C=10, solver='liblinear', max_iter=1000)\n",
        "model_l2.fit(X_train, y_train)\n",
        "y_pred_l2 = model_l2.predict(X_test)"
      ],
      "metadata": {
        "id": "8Gmg6HYyvtGh"
      },
      "execution_count": null,
      "outputs": []
    },
    {
      "cell_type": "markdown",
      "source": [
        "\n",
        "\n",
        "---\n",
        "\n"
      ],
      "metadata": {
        "id": "oSn4Ly3cPAEr"
      }
    },
    {
      "cell_type": "markdown",
      "source": [
        "## **Evaluate the models.**"
      ],
      "metadata": {
        "id": "Md_vtXdPOiBe"
      }
    },
    {
      "cell_type": "code",
      "source": [
        "print(\"L1 Regularization (Lasso) Performance:\")\n",
        "print(f\"Accuracy: {accuracy_score(y_test, y_pred_l1)*100:.2f}%\")\n",
        "precision = precision_score(y_test, y_pred_l1)\n",
        "print(f\"Precision: {precision*100:.2f}%\")\n",
        "recall = recall_score(y_test, y_pred_l1)\n",
        "print(f\"Recall: {recall*100:.2f}%\")\n",
        "f1 = f1_score(y_test, y_pred_l1)\n",
        "print(f\"F1 Score: {f1*100:.2f}%\")\n",
        "print(f\"ROC-AUC: {roc_auc_score(y_test, y_pred_l1)*100:.2f}%\")\n",
        "\n",
        "\n",
        "print(\"\\n\\nL2 Regularization (Ridge) Performance:\")\n",
        "print(f\"Accuracy: {accuracy_score(y_test, y_pred_l2)*100:.2f}%\")\n",
        "precision = precision_score(y_test, y_pred_l2)\n",
        "print(f\"Precision: {precision*100:.2f}%\")\n",
        "recall = recall_score(y_test, y_pred_l2)\n",
        "print(f\"Recall: {recall*100:.2f}%\")\n",
        "f1 = f1_score(y_test, y_pred_l2)\n",
        "print(f\"F1 Score: {f1*100:.2f}%\")\n",
        "print(f\"ROC-AUC: {roc_auc_score(y_test, y_pred_l2)*100:.2f}%\")"
      ],
      "metadata": {
        "colab": {
          "base_uri": "https://localhost:8080/"
        },
        "collapsed": true,
        "id": "5trRQWD9wGtc",
        "outputId": "6cfceefe-7731-4703-cc06-81cb2c8aa9f0"
      },
      "execution_count": null,
      "outputs": [
        {
          "output_type": "stream",
          "name": "stdout",
          "text": [
            "L1 Regularization (Lasso) Performance:\n",
            "Accuracy: 95.61%\n",
            "Precision: 94.59%\n",
            "Recall: 98.59%\n",
            "F1 Score: 96.55%\n",
            "ROC-AUC: 94.64%\n",
            "\n",
            "\n",
            "L2 Regularization (Ridge) Performance:\n",
            "Accuracy: 95.61%\n",
            "Precision: 94.59%\n",
            "Recall: 98.59%\n",
            "F1 Score: 96.55%\n",
            "ROC-AUC: 94.64%\n"
          ]
        }
      ]
    },
    {
      "cell_type": "markdown",
      "source": [
        "The performance of both **L1 Regularization (Lasso)** and **L2 Regularization (Ridge)** is identical, with both models achieving an accuracy of **95.61%**, precision of **94.59%**, recall of **98.59%**, F1 score of **96.55%**, and ROC-AUC of **94.64%**. This indicates that in this specific case, both regularization techniques perform equally well in terms of key classification metrics, offering a good balance between precision, recall, and overall model performance. However, in practice, the choice between Lasso and Ridge regularization often depends on the data characteristics and the need for feature selection (Lasso) or handling multicollinearity (Ridge)."
      ],
      "metadata": {
        "id": "nQ5bDtm2OuaH"
      }
    },
    {
      "cell_type": "markdown",
      "source": [
        "\n",
        "\n",
        "---\n",
        "\n"
      ],
      "metadata": {
        "id": "B_KvOxtjPlwa"
      }
    },
    {
      "cell_type": "markdown",
      "source": [
        "## **Compare the performance of Logistic Regression with KNN.**"
      ],
      "metadata": {
        "id": "XZu9ChACOflD"
      }
    },
    {
      "cell_type": "markdown",
      "source": [
        "Logistic Regression outperforms KNN across most metrics, including accuracy, precision, F1-score, and ROC-AUC. It demonstrates higher precision and F1-score, making it better suited for correctly identifying positive instances and achieving a balanced performance.\n",
        "\n",
        "KNN (using Euclidean or Manhattan distance) shows strong recall and accuracy, particularly for classifying positive instances, but its precision and F1-score are slightly lower than Logistic Regression. When using Cosine distance, KNN's overall performance drops, with noticeably lower accuracy and ROC-AUC. This highlights Logistic Regression as the more robust choice for this dataset."
      ],
      "metadata": {
        "id": "P7tRiuIKO3SQ"
      }
    },
    {
      "cell_type": "markdown",
      "source": [
        "\n",
        "\n",
        "---\n",
        "\n"
      ],
      "metadata": {
        "id": "B-3U1IF0Pnxk"
      }
    },
    {
      "cell_type": "markdown",
      "source": [
        "# **Part 3: Support Vector Machines (SVM)**"
      ],
      "metadata": {
        "id": "yJ-G4nVxNePZ"
      }
    },
    {
      "cell_type": "markdown",
      "source": [
        "Support Vector Machines (SVM) is a supervised learning algorithm used for classification and regression tasks. It works by finding the hyperplane that best separates the data points of different classes in a high-dimensional space. SVM aims to maximize the margin, or the distance between the hyperplane and the closest data points, called support vectors. This helps improve generalization and reduces overfitting."
      ],
      "metadata": {
        "id": "gK1huq37DUFi"
      }
    },
    {
      "cell_type": "markdown",
      "source": [
        "## ***Implement the SVM algorithm using APIs.***"
      ],
      "metadata": {
        "id": "Mc_u7WAw3rlg"
      }
    },
    {
      "cell_type": "code",
      "source": [
        "# Train an SVM model (default kernel is RBF).\n",
        "svm = SVC(probability=True, random_state=42)\n",
        "svm.fit(X_train, y_train)"
      ],
      "metadata": {
        "colab": {
          "base_uri": "https://localhost:8080/"
        },
        "id": "yvRVP9Ew33FF",
        "outputId": "4d1bd25e-aac8-4733-9010-68d9028e65e1"
      },
      "execution_count": null,
      "outputs": [
        {
          "output_type": "execute_result",
          "data": {
            "text/plain": [
              "SVC(probability=True, random_state=42)"
            ],
            "text/html": [
              "<style>#sk-container-id-2 {\n",
              "  /* Definition of color scheme common for light and dark mode */\n",
              "  --sklearn-color-text: #000;\n",
              "  --sklearn-color-text-muted: #666;\n",
              "  --sklearn-color-line: gray;\n",
              "  /* Definition of color scheme for unfitted estimators */\n",
              "  --sklearn-color-unfitted-level-0: #fff5e6;\n",
              "  --sklearn-color-unfitted-level-1: #f6e4d2;\n",
              "  --sklearn-color-unfitted-level-2: #ffe0b3;\n",
              "  --sklearn-color-unfitted-level-3: chocolate;\n",
              "  /* Definition of color scheme for fitted estimators */\n",
              "  --sklearn-color-fitted-level-0: #f0f8ff;\n",
              "  --sklearn-color-fitted-level-1: #d4ebff;\n",
              "  --sklearn-color-fitted-level-2: #b3dbfd;\n",
              "  --sklearn-color-fitted-level-3: cornflowerblue;\n",
              "\n",
              "  /* Specific color for light theme */\n",
              "  --sklearn-color-text-on-default-background: var(--sg-text-color, var(--theme-code-foreground, var(--jp-content-font-color1, black)));\n",
              "  --sklearn-color-background: var(--sg-background-color, var(--theme-background, var(--jp-layout-color0, white)));\n",
              "  --sklearn-color-border-box: var(--sg-text-color, var(--theme-code-foreground, var(--jp-content-font-color1, black)));\n",
              "  --sklearn-color-icon: #696969;\n",
              "\n",
              "  @media (prefers-color-scheme: dark) {\n",
              "    /* Redefinition of color scheme for dark theme */\n",
              "    --sklearn-color-text-on-default-background: var(--sg-text-color, var(--theme-code-foreground, var(--jp-content-font-color1, white)));\n",
              "    --sklearn-color-background: var(--sg-background-color, var(--theme-background, var(--jp-layout-color0, #111)));\n",
              "    --sklearn-color-border-box: var(--sg-text-color, var(--theme-code-foreground, var(--jp-content-font-color1, white)));\n",
              "    --sklearn-color-icon: #878787;\n",
              "  }\n",
              "}\n",
              "\n",
              "#sk-container-id-2 {\n",
              "  color: var(--sklearn-color-text);\n",
              "}\n",
              "\n",
              "#sk-container-id-2 pre {\n",
              "  padding: 0;\n",
              "}\n",
              "\n",
              "#sk-container-id-2 input.sk-hidden--visually {\n",
              "  border: 0;\n",
              "  clip: rect(1px 1px 1px 1px);\n",
              "  clip: rect(1px, 1px, 1px, 1px);\n",
              "  height: 1px;\n",
              "  margin: -1px;\n",
              "  overflow: hidden;\n",
              "  padding: 0;\n",
              "  position: absolute;\n",
              "  width: 1px;\n",
              "}\n",
              "\n",
              "#sk-container-id-2 div.sk-dashed-wrapped {\n",
              "  border: 1px dashed var(--sklearn-color-line);\n",
              "  margin: 0 0.4em 0.5em 0.4em;\n",
              "  box-sizing: border-box;\n",
              "  padding-bottom: 0.4em;\n",
              "  background-color: var(--sklearn-color-background);\n",
              "}\n",
              "\n",
              "#sk-container-id-2 div.sk-container {\n",
              "  /* jupyter's `normalize.less` sets `[hidden] { display: none; }`\n",
              "     but bootstrap.min.css set `[hidden] { display: none !important; }`\n",
              "     so we also need the `!important` here to be able to override the\n",
              "     default hidden behavior on the sphinx rendered scikit-learn.org.\n",
              "     See: https://github.com/scikit-learn/scikit-learn/issues/21755 */\n",
              "  display: inline-block !important;\n",
              "  position: relative;\n",
              "}\n",
              "\n",
              "#sk-container-id-2 div.sk-text-repr-fallback {\n",
              "  display: none;\n",
              "}\n",
              "\n",
              "div.sk-parallel-item,\n",
              "div.sk-serial,\n",
              "div.sk-item {\n",
              "  /* draw centered vertical line to link estimators */\n",
              "  background-image: linear-gradient(var(--sklearn-color-text-on-default-background), var(--sklearn-color-text-on-default-background));\n",
              "  background-size: 2px 100%;\n",
              "  background-repeat: no-repeat;\n",
              "  background-position: center center;\n",
              "}\n",
              "\n",
              "/* Parallel-specific style estimator block */\n",
              "\n",
              "#sk-container-id-2 div.sk-parallel-item::after {\n",
              "  content: \"\";\n",
              "  width: 100%;\n",
              "  border-bottom: 2px solid var(--sklearn-color-text-on-default-background);\n",
              "  flex-grow: 1;\n",
              "}\n",
              "\n",
              "#sk-container-id-2 div.sk-parallel {\n",
              "  display: flex;\n",
              "  align-items: stretch;\n",
              "  justify-content: center;\n",
              "  background-color: var(--sklearn-color-background);\n",
              "  position: relative;\n",
              "}\n",
              "\n",
              "#sk-container-id-2 div.sk-parallel-item {\n",
              "  display: flex;\n",
              "  flex-direction: column;\n",
              "}\n",
              "\n",
              "#sk-container-id-2 div.sk-parallel-item:first-child::after {\n",
              "  align-self: flex-end;\n",
              "  width: 50%;\n",
              "}\n",
              "\n",
              "#sk-container-id-2 div.sk-parallel-item:last-child::after {\n",
              "  align-self: flex-start;\n",
              "  width: 50%;\n",
              "}\n",
              "\n",
              "#sk-container-id-2 div.sk-parallel-item:only-child::after {\n",
              "  width: 0;\n",
              "}\n",
              "\n",
              "/* Serial-specific style estimator block */\n",
              "\n",
              "#sk-container-id-2 div.sk-serial {\n",
              "  display: flex;\n",
              "  flex-direction: column;\n",
              "  align-items: center;\n",
              "  background-color: var(--sklearn-color-background);\n",
              "  padding-right: 1em;\n",
              "  padding-left: 1em;\n",
              "}\n",
              "\n",
              "\n",
              "/* Toggleable style: style used for estimator/Pipeline/ColumnTransformer box that is\n",
              "clickable and can be expanded/collapsed.\n",
              "- Pipeline and ColumnTransformer use this feature and define the default style\n",
              "- Estimators will overwrite some part of the style using the `sk-estimator` class\n",
              "*/\n",
              "\n",
              "/* Pipeline and ColumnTransformer style (default) */\n",
              "\n",
              "#sk-container-id-2 div.sk-toggleable {\n",
              "  /* Default theme specific background. It is overwritten whether we have a\n",
              "  specific estimator or a Pipeline/ColumnTransformer */\n",
              "  background-color: var(--sklearn-color-background);\n",
              "}\n",
              "\n",
              "/* Toggleable label */\n",
              "#sk-container-id-2 label.sk-toggleable__label {\n",
              "  cursor: pointer;\n",
              "  display: flex;\n",
              "  width: 100%;\n",
              "  margin-bottom: 0;\n",
              "  padding: 0.5em;\n",
              "  box-sizing: border-box;\n",
              "  text-align: center;\n",
              "  align-items: start;\n",
              "  justify-content: space-between;\n",
              "  gap: 0.5em;\n",
              "}\n",
              "\n",
              "#sk-container-id-2 label.sk-toggleable__label .caption {\n",
              "  font-size: 0.6rem;\n",
              "  font-weight: lighter;\n",
              "  color: var(--sklearn-color-text-muted);\n",
              "}\n",
              "\n",
              "#sk-container-id-2 label.sk-toggleable__label-arrow:before {\n",
              "  /* Arrow on the left of the label */\n",
              "  content: \"▸\";\n",
              "  float: left;\n",
              "  margin-right: 0.25em;\n",
              "  color: var(--sklearn-color-icon);\n",
              "}\n",
              "\n",
              "#sk-container-id-2 label.sk-toggleable__label-arrow:hover:before {\n",
              "  color: var(--sklearn-color-text);\n",
              "}\n",
              "\n",
              "/* Toggleable content - dropdown */\n",
              "\n",
              "#sk-container-id-2 div.sk-toggleable__content {\n",
              "  max-height: 0;\n",
              "  max-width: 0;\n",
              "  overflow: hidden;\n",
              "  text-align: left;\n",
              "  /* unfitted */\n",
              "  background-color: var(--sklearn-color-unfitted-level-0);\n",
              "}\n",
              "\n",
              "#sk-container-id-2 div.sk-toggleable__content.fitted {\n",
              "  /* fitted */\n",
              "  background-color: var(--sklearn-color-fitted-level-0);\n",
              "}\n",
              "\n",
              "#sk-container-id-2 div.sk-toggleable__content pre {\n",
              "  margin: 0.2em;\n",
              "  border-radius: 0.25em;\n",
              "  color: var(--sklearn-color-text);\n",
              "  /* unfitted */\n",
              "  background-color: var(--sklearn-color-unfitted-level-0);\n",
              "}\n",
              "\n",
              "#sk-container-id-2 div.sk-toggleable__content.fitted pre {\n",
              "  /* unfitted */\n",
              "  background-color: var(--sklearn-color-fitted-level-0);\n",
              "}\n",
              "\n",
              "#sk-container-id-2 input.sk-toggleable__control:checked~div.sk-toggleable__content {\n",
              "  /* Expand drop-down */\n",
              "  max-height: 200px;\n",
              "  max-width: 100%;\n",
              "  overflow: auto;\n",
              "}\n",
              "\n",
              "#sk-container-id-2 input.sk-toggleable__control:checked~label.sk-toggleable__label-arrow:before {\n",
              "  content: \"▾\";\n",
              "}\n",
              "\n",
              "/* Pipeline/ColumnTransformer-specific style */\n",
              "\n",
              "#sk-container-id-2 div.sk-label input.sk-toggleable__control:checked~label.sk-toggleable__label {\n",
              "  color: var(--sklearn-color-text);\n",
              "  background-color: var(--sklearn-color-unfitted-level-2);\n",
              "}\n",
              "\n",
              "#sk-container-id-2 div.sk-label.fitted input.sk-toggleable__control:checked~label.sk-toggleable__label {\n",
              "  background-color: var(--sklearn-color-fitted-level-2);\n",
              "}\n",
              "\n",
              "/* Estimator-specific style */\n",
              "\n",
              "/* Colorize estimator box */\n",
              "#sk-container-id-2 div.sk-estimator input.sk-toggleable__control:checked~label.sk-toggleable__label {\n",
              "  /* unfitted */\n",
              "  background-color: var(--sklearn-color-unfitted-level-2);\n",
              "}\n",
              "\n",
              "#sk-container-id-2 div.sk-estimator.fitted input.sk-toggleable__control:checked~label.sk-toggleable__label {\n",
              "  /* fitted */\n",
              "  background-color: var(--sklearn-color-fitted-level-2);\n",
              "}\n",
              "\n",
              "#sk-container-id-2 div.sk-label label.sk-toggleable__label,\n",
              "#sk-container-id-2 div.sk-label label {\n",
              "  /* The background is the default theme color */\n",
              "  color: var(--sklearn-color-text-on-default-background);\n",
              "}\n",
              "\n",
              "/* On hover, darken the color of the background */\n",
              "#sk-container-id-2 div.sk-label:hover label.sk-toggleable__label {\n",
              "  color: var(--sklearn-color-text);\n",
              "  background-color: var(--sklearn-color-unfitted-level-2);\n",
              "}\n",
              "\n",
              "/* Label box, darken color on hover, fitted */\n",
              "#sk-container-id-2 div.sk-label.fitted:hover label.sk-toggleable__label.fitted {\n",
              "  color: var(--sklearn-color-text);\n",
              "  background-color: var(--sklearn-color-fitted-level-2);\n",
              "}\n",
              "\n",
              "/* Estimator label */\n",
              "\n",
              "#sk-container-id-2 div.sk-label label {\n",
              "  font-family: monospace;\n",
              "  font-weight: bold;\n",
              "  display: inline-block;\n",
              "  line-height: 1.2em;\n",
              "}\n",
              "\n",
              "#sk-container-id-2 div.sk-label-container {\n",
              "  text-align: center;\n",
              "}\n",
              "\n",
              "/* Estimator-specific */\n",
              "#sk-container-id-2 div.sk-estimator {\n",
              "  font-family: monospace;\n",
              "  border: 1px dotted var(--sklearn-color-border-box);\n",
              "  border-radius: 0.25em;\n",
              "  box-sizing: border-box;\n",
              "  margin-bottom: 0.5em;\n",
              "  /* unfitted */\n",
              "  background-color: var(--sklearn-color-unfitted-level-0);\n",
              "}\n",
              "\n",
              "#sk-container-id-2 div.sk-estimator.fitted {\n",
              "  /* fitted */\n",
              "  background-color: var(--sklearn-color-fitted-level-0);\n",
              "}\n",
              "\n",
              "/* on hover */\n",
              "#sk-container-id-2 div.sk-estimator:hover {\n",
              "  /* unfitted */\n",
              "  background-color: var(--sklearn-color-unfitted-level-2);\n",
              "}\n",
              "\n",
              "#sk-container-id-2 div.sk-estimator.fitted:hover {\n",
              "  /* fitted */\n",
              "  background-color: var(--sklearn-color-fitted-level-2);\n",
              "}\n",
              "\n",
              "/* Specification for estimator info (e.g. \"i\" and \"?\") */\n",
              "\n",
              "/* Common style for \"i\" and \"?\" */\n",
              "\n",
              ".sk-estimator-doc-link,\n",
              "a:link.sk-estimator-doc-link,\n",
              "a:visited.sk-estimator-doc-link {\n",
              "  float: right;\n",
              "  font-size: smaller;\n",
              "  line-height: 1em;\n",
              "  font-family: monospace;\n",
              "  background-color: var(--sklearn-color-background);\n",
              "  border-radius: 1em;\n",
              "  height: 1em;\n",
              "  width: 1em;\n",
              "  text-decoration: none !important;\n",
              "  margin-left: 0.5em;\n",
              "  text-align: center;\n",
              "  /* unfitted */\n",
              "  border: var(--sklearn-color-unfitted-level-1) 1pt solid;\n",
              "  color: var(--sklearn-color-unfitted-level-1);\n",
              "}\n",
              "\n",
              ".sk-estimator-doc-link.fitted,\n",
              "a:link.sk-estimator-doc-link.fitted,\n",
              "a:visited.sk-estimator-doc-link.fitted {\n",
              "  /* fitted */\n",
              "  border: var(--sklearn-color-fitted-level-1) 1pt solid;\n",
              "  color: var(--sklearn-color-fitted-level-1);\n",
              "}\n",
              "\n",
              "/* On hover */\n",
              "div.sk-estimator:hover .sk-estimator-doc-link:hover,\n",
              ".sk-estimator-doc-link:hover,\n",
              "div.sk-label-container:hover .sk-estimator-doc-link:hover,\n",
              ".sk-estimator-doc-link:hover {\n",
              "  /* unfitted */\n",
              "  background-color: var(--sklearn-color-unfitted-level-3);\n",
              "  color: var(--sklearn-color-background);\n",
              "  text-decoration: none;\n",
              "}\n",
              "\n",
              "div.sk-estimator.fitted:hover .sk-estimator-doc-link.fitted:hover,\n",
              ".sk-estimator-doc-link.fitted:hover,\n",
              "div.sk-label-container:hover .sk-estimator-doc-link.fitted:hover,\n",
              ".sk-estimator-doc-link.fitted:hover {\n",
              "  /* fitted */\n",
              "  background-color: var(--sklearn-color-fitted-level-3);\n",
              "  color: var(--sklearn-color-background);\n",
              "  text-decoration: none;\n",
              "}\n",
              "\n",
              "/* Span, style for the box shown on hovering the info icon */\n",
              ".sk-estimator-doc-link span {\n",
              "  display: none;\n",
              "  z-index: 9999;\n",
              "  position: relative;\n",
              "  font-weight: normal;\n",
              "  right: .2ex;\n",
              "  padding: .5ex;\n",
              "  margin: .5ex;\n",
              "  width: min-content;\n",
              "  min-width: 20ex;\n",
              "  max-width: 50ex;\n",
              "  color: var(--sklearn-color-text);\n",
              "  box-shadow: 2pt 2pt 4pt #999;\n",
              "  /* unfitted */\n",
              "  background: var(--sklearn-color-unfitted-level-0);\n",
              "  border: .5pt solid var(--sklearn-color-unfitted-level-3);\n",
              "}\n",
              "\n",
              ".sk-estimator-doc-link.fitted span {\n",
              "  /* fitted */\n",
              "  background: var(--sklearn-color-fitted-level-0);\n",
              "  border: var(--sklearn-color-fitted-level-3);\n",
              "}\n",
              "\n",
              ".sk-estimator-doc-link:hover span {\n",
              "  display: block;\n",
              "}\n",
              "\n",
              "/* \"?\"-specific style due to the `<a>` HTML tag */\n",
              "\n",
              "#sk-container-id-2 a.estimator_doc_link {\n",
              "  float: right;\n",
              "  font-size: 1rem;\n",
              "  line-height: 1em;\n",
              "  font-family: monospace;\n",
              "  background-color: var(--sklearn-color-background);\n",
              "  border-radius: 1rem;\n",
              "  height: 1rem;\n",
              "  width: 1rem;\n",
              "  text-decoration: none;\n",
              "  /* unfitted */\n",
              "  color: var(--sklearn-color-unfitted-level-1);\n",
              "  border: var(--sklearn-color-unfitted-level-1) 1pt solid;\n",
              "}\n",
              "\n",
              "#sk-container-id-2 a.estimator_doc_link.fitted {\n",
              "  /* fitted */\n",
              "  border: var(--sklearn-color-fitted-level-1) 1pt solid;\n",
              "  color: var(--sklearn-color-fitted-level-1);\n",
              "}\n",
              "\n",
              "/* On hover */\n",
              "#sk-container-id-2 a.estimator_doc_link:hover {\n",
              "  /* unfitted */\n",
              "  background-color: var(--sklearn-color-unfitted-level-3);\n",
              "  color: var(--sklearn-color-background);\n",
              "  text-decoration: none;\n",
              "}\n",
              "\n",
              "#sk-container-id-2 a.estimator_doc_link.fitted:hover {\n",
              "  /* fitted */\n",
              "  background-color: var(--sklearn-color-fitted-level-3);\n",
              "}\n",
              "</style><div id=\"sk-container-id-2\" class=\"sk-top-container\"><div class=\"sk-text-repr-fallback\"><pre>SVC(probability=True, random_state=42)</pre><b>In a Jupyter environment, please rerun this cell to show the HTML representation or trust the notebook. <br />On GitHub, the HTML representation is unable to render, please try loading this page with nbviewer.org.</b></div><div class=\"sk-container\" hidden><div class=\"sk-item\"><div class=\"sk-estimator fitted sk-toggleable\"><input class=\"sk-toggleable__control sk-hidden--visually\" id=\"sk-estimator-id-2\" type=\"checkbox\" checked><label for=\"sk-estimator-id-2\" class=\"sk-toggleable__label fitted sk-toggleable__label-arrow\"><div><div>SVC</div></div><div><a class=\"sk-estimator-doc-link fitted\" rel=\"noreferrer\" target=\"_blank\" href=\"https://scikit-learn.org/1.6/modules/generated/sklearn.svm.SVC.html\">?<span>Documentation for SVC</span></a><span class=\"sk-estimator-doc-link fitted\">i<span>Fitted</span></span></div></label><div class=\"sk-toggleable__content fitted\"><pre>SVC(probability=True, random_state=42)</pre></div> </div></div></div></div>"
            ]
          },
          "metadata": {},
          "execution_count": 43
        }
      ]
    },
    {
      "cell_type": "code",
      "source": [
        "# Make predictions.\n",
        "y_pred = svm.predict(X_test)\n",
        "y_pred_proba = svm.predict_proba(X_test)[:, 1]"
      ],
      "metadata": {
        "id": "uPWyR-174wmg"
      },
      "execution_count": null,
      "outputs": []
    },
    {
      "cell_type": "code",
      "source": [
        "# Evaluate performance metrics.\n",
        "accuracy = accuracy_score(y_test, y_pred)\n",
        "precision = precision_score(y_test, y_pred)\n",
        "recall = recall_score(y_test, y_pred)\n",
        "f1 = f1_score(y_test, y_pred)\n",
        "roc_auc = roc_auc_score(y_test, y_pred_proba)"
      ],
      "metadata": {
        "id": "mFWh8GMk4zFa"
      },
      "execution_count": null,
      "outputs": []
    },
    {
      "cell_type": "code",
      "source": [
        "# Print metrics.\n",
        "print(\"SVM Performance with Default (RBF) Kernel:\")\n",
        "print(f\"Accuracy: {accuracy * 100:.2f}%\")\n",
        "print(f\"Precision: {precision * 100:.2f}%\")\n",
        "print(f\"Recall: {recall * 100:.2f}%\")\n",
        "print(f\"F1-Score: {f1 * 100:.2f}%\")\n",
        "print(f\"ROC-AUC: {roc_auc * 100:.2f}%\")"
      ],
      "metadata": {
        "colab": {
          "base_uri": "https://localhost:8080/"
        },
        "id": "sAvTb5pd42Kv",
        "outputId": "51b926fd-857f-4bf9-a5b2-c4b9c111308f"
      },
      "execution_count": null,
      "outputs": [
        {
          "output_type": "stream",
          "name": "stdout",
          "text": [
            "SVM Performance with Default (RBF) Kernel:\n",
            "Accuracy: 92.98%\n",
            "Precision: 92.11%\n",
            "Recall: 97.22%\n",
            "F1-Score: 94.59%\n",
            "ROC-AUC: 96.96%\n"
          ]
        }
      ]
    },
    {
      "cell_type": "markdown",
      "source": [
        "The SVM model with the default RBF kernel achieved strong performance, with an accuracy of 94.74%, a precision of 92.21%, and a perfect recall of 100.00%, ensuring all malignant cases were correctly identified. The F1-Score of 95.95% reflects a good balance between precision and recall, while the high ROC-AUC of 99.34% highlights the model's excellent discriminative ability. This makes the RBF kernel a robust choice, particularly for medical tasks where minimizing false negatives is crucial, though its slightly lower precision indicates a few false positives."
      ],
      "metadata": {
        "id": "yoBllIUx33eM"
      }
    },
    {
      "cell_type": "markdown",
      "source": [
        "\n",
        "\n",
        "---\n",
        "\n"
      ],
      "metadata": {
        "id": "-IyDoXbd335E"
      }
    },
    {
      "cell_type": "markdown",
      "source": [
        "## ***Implement the SVM algorithm using 3-types of Kernels.***"
      ],
      "metadata": {
        "id": "QfKtDJcR5mfF"
      }
    },
    {
      "cell_type": "markdown",
      "source": [
        "SVM can use different kernels (linear, polynomial, radial basis function) to handle non-linearly separable data by transforming it into a higher-dimensional space where it becomes linearly separable. SVM is effective in high-dimensional spaces, especially for tasks with complex boundaries, but it can be sensitive to noise and computationally expensive for large datasets."
      ],
      "metadata": {
        "id": "H5sZ1x5Z3qXy"
      }
    },
    {
      "cell_type": "code",
      "source": [
        "kernels = ['linear', 'poly', 'rbf']\n",
        "results = {}\n",
        "X_train, X_test, y_train, y_test = train_test_split(X, y, test_size=0.2, random_state=42, stratify=y)\n",
        "\n",
        "for kernel in kernels:\n",
        "    # Train SVM.\n",
        "    svm = SVC(kernel=kernel, probability=True, random_state=42)\n",
        "    svm.fit(X_train, y_train)\n",
        "    y_pred = svm.predict(X_test)\n",
        "    y_pred_proba = svm.predict_proba(X_test)[:, 1]\n",
        "\n",
        "\n",
        "    # Compute metrics.\n",
        "    accuracy1 = accuracy_score(y_test, y_pred)\n",
        "    precision1 = precision_score(y_test, y_pred)\n",
        "    recall1 = recall_score(y_test, y_pred)\n",
        "    f11 = f1_score(y_test, y_pred)\n",
        "    roc_auc1 = roc_auc_score(y_test, y_pred_proba)\n",
        "\n",
        "    # Store results.\n",
        "    results[kernel] = {\n",
        "        'Accuracy': accuracy1,\n",
        "        'Precision': precision1,\n",
        "        'Recall': recall1,\n",
        "        'F1-Score': f11,\n",
        "        'ROC-AUC': roc_auc1\n",
        "    }\n",
        "\n",
        "for kernel, metrics in results.items():\n",
        "    print(f\"Kernel: {kernel}\")\n",
        "    for metric, value in metrics.items():\n",
        "        print(f\"{metric}: {value * 100:.2f}%\")\n",
        "    print(\"\\n\")"
      ],
      "metadata": {
        "colab": {
          "base_uri": "https://localhost:8080/"
        },
        "id": "vwcnvVN2yDDE",
        "outputId": "a95ed042-2401-4b1e-c3db-efc4849a1ad3"
      },
      "execution_count": null,
      "outputs": [
        {
          "output_type": "stream",
          "name": "stdout",
          "text": [
            "Kernel: linear\n",
            "Accuracy: 95.61%\n",
            "Precision: 94.67%\n",
            "Recall: 98.61%\n",
            "F1-Score: 96.60%\n",
            "ROC-AUC: 99.64%\n",
            "\n",
            "\n",
            "Kernel: poly\n",
            "Accuracy: 92.11%\n",
            "Precision: 90.91%\n",
            "Recall: 97.22%\n",
            "F1-Score: 93.96%\n",
            "ROC-AUC: 96.63%\n",
            "\n",
            "\n",
            "Kernel: rbf\n",
            "Accuracy: 92.98%\n",
            "Precision: 92.11%\n",
            "Recall: 97.22%\n",
            "F1-Score: 94.59%\n",
            "ROC-AUC: 96.96%\n",
            "\n",
            "\n"
          ]
        }
      ]
    },
    {
      "cell_type": "markdown",
      "source": [
        "- **Linear Kernel**: The linear kernel delivers the highest accuracy (95.61%) and the best ROC-AUC score (99.64%), suggesting it performs exceptionally well for this dataset. Its precision and recall are also strong, particularly with a recall of 98.61%, demonstrating the model's effectiveness at identifying the positive class. The linear kernel is most suitable for linearly separable data or cases where the decision boundary is relatively simple.\n",
        "\n",
        "- **Polynomial Kernel**: The polynomial kernel performs slightly worse than the linear kernel, with an accuracy of 92.11% and a lower ROC-AUC score (96.63%). Its precision is also lower (90.91%), but it maintains a high recall (97.22%), indicating it is more cautious in its positive predictions while still effectively identifying positive instances. This kernel is a good choice for problems with non-linear decision boundaries but lags behind the linear kernel in overall performance.\n",
        "\n",
        "- **RBF Kernel**: The RBF kernel's performance is similar to the polynomial kernel, with an accuracy of 92.98% and a slightly higher ROC-AUC score (96.96%) compared to the polynomial kernel. Its recall (97.22%) is on par with the polynomial kernel, but its precision (92.11%) and F1-score (94.59%) are better, making it a more balanced model in terms of sensitivity and specificity. The RBF kernel is effective for problems with complex or non-linear decision boundaries, though it doesn't outperform the linear kernel for this dataset.\n"
      ],
      "metadata": {
        "id": "d9_2ibEyEE90"
      }
    },
    {
      "cell_type": "markdown",
      "source": [
        "\n",
        "\n",
        "---\n",
        "\n"
      ],
      "metadata": {
        "id": "2KXiaMNcTI6H"
      }
    },
    {
      "cell_type": "markdown",
      "source": [
        "## ***Impact of Kernel Choice on Model Performance***\n"
      ],
      "metadata": {
        "id": "Kw17a_r9EYL0"
      }
    },
    {
      "cell_type": "markdown",
      "source": [
        "- **Accuracy and ROC-AUC**: The linear kernel stands out with the highest accuracy and ROC-AUC, indicating that the dataset's decision boundary is relatively simple and linear, making the linear kernel the most suitable choice.\n",
        "- **Precision and Recall**: The linear kernel excels in both precision and recall, suggesting it is better at identifying true positives (precision) and correctly capturing all positive instances (recall). The polynomial and RBF kernels, while showing strong recall, have slightly lower precision, especially the polynomial kernel.\n",
        "- **F1-Score**: The linear kernel achieves the highest F1-score, signifying the best trade-off between precision and recall. While the polynomial and RBF kernels show slightly lower F1-scores, they still perform well on complex datasets."
      ],
      "metadata": {
        "id": "r85GbT4tEIUF"
      }
    },
    {
      "cell_type": "markdown",
      "source": [
        "In conclusion, the **linear kernel** is the best option for this dataset, providing the highest performance across all metrics. However, the choice of kernel should be tailored to the nature of the problem and the characteristics of the data. Non-linear kernels, like polynomial and RBF, may be more effective for datasets where the decision boundary is not linear."
      ],
      "metadata": {
        "id": "BPNks6VDEcPg"
      }
    },
    {
      "cell_type": "markdown",
      "source": [
        "\n",
        "\n",
        "---\n",
        "\n"
      ],
      "metadata": {
        "id": "JO37I2o-TKlx"
      }
    },
    {
      "cell_type": "markdown",
      "source": [
        "# **Part 4: Ensemble Methods**"
      ],
      "metadata": {
        "id": "uaEmljHiNjRO"
      }
    },
    {
      "cell_type": "markdown",
      "source": [
        "## **1. Boosting: AdaBoost**"
      ],
      "metadata": {
        "id": "haBOWC3L-DhV"
      }
    },
    {
      "cell_type": "markdown",
      "source": [
        "**AdaBoost (Adaptive Boosting)**\n",
        "\n",
        "is a meta-algorithm, designed to enhance the performance of weak classifiers by combining their outputs into a weighted sum to create a strong classifier. It focuses on misclassified instances, adjusting subsequent models to improve accuracy. While typically used with decision stumps, AdaBoost can also combine stronger learners like deeper decision trees for even better performance. Known for its adaptability and robustness, it is often considered an excellent \"out-of-the-box\" classifier, especially for binary classification tasks."
      ],
      "metadata": {
        "id": "Twy-PQTeA_9x"
      }
    },
    {
      "cell_type": "code",
      "source": [
        "# Train AdaBoost model.\n",
        "adaboost = AdaBoostClassifier(n_estimators=50, random_state=42)\n",
        "adaboost.fit(X_train, y_train)\n",
        "\n",
        "# Predictions.\n",
        "y_pred_ada = adaboost.predict(X_test)\n",
        "y_pred_proba_ada = adaboost.predict_proba(X_test)[:, 1]\n",
        "\n",
        "# Metrics.\n",
        "accuracy_ada = accuracy_score(y_test, y_pred_ada)\n",
        "precision_ada = precision_score(y_test, y_pred_ada)\n",
        "recall_ada = recall_score(y_test, y_pred_ada)\n",
        "f1_ada = f1_score(y_test, y_pred_ada)\n",
        "roc_auc_ada = roc_auc_score(y_test, y_pred_proba_ada)"
      ],
      "metadata": {
        "id": "LZNiXcxd-OgN"
      },
      "execution_count": null,
      "outputs": []
    },
    {
      "cell_type": "markdown",
      "source": [
        "\n",
        "\n",
        "---\n",
        "\n"
      ],
      "metadata": {
        "id": "mOGWEBsQU8Ap"
      }
    },
    {
      "cell_type": "markdown",
      "source": [
        "## **2. Bagging: Random Forest**"
      ],
      "metadata": {
        "id": "Yq9a4QEJ-Foi"
      }
    },
    {
      "cell_type": "markdown",
      "source": [
        "Random Forest is an ensemble learning method that uses bagging to build multiple decision trees from random subsets of the data. Each tree is trained on a different data subset with random feature selection at each split. The final prediction is made by aggregating the results of all trees. Random Forest reduces overfitting, improves accuracy, and is robust to noise, making it effective for both classification and regression tasks."
      ],
      "metadata": {
        "id": "3UyN_UBiBMEl"
      }
    },
    {
      "cell_type": "code",
      "source": [
        "# Train Random Forest model.\n",
        "random_forest = RandomForestClassifier(n_estimators=100, random_state=42)\n",
        "random_forest.fit(X_train, y_train)\n",
        "\n",
        "# Predictions.\n",
        "y_pred_rf = random_forest.predict(X_test)\n",
        "y_pred_proba_rf = random_forest.predict_proba(X_test)[:, 1]\n",
        "\n",
        "# Metrics.\n",
        "accuracy_rf = accuracy_score(y_test, y_pred_rf)\n",
        "precision_rf = precision_score(y_test, y_pred_rf)\n",
        "recall_rf = recall_score(y_test, y_pred_rf)\n",
        "f1_rf = f1_score(y_test, y_pred_rf)\n",
        "roc_auc_rf = roc_auc_score(y_test, y_pred_proba_rf)"
      ],
      "metadata": {
        "id": "gnOpIfOb-XDS"
      },
      "execution_count": null,
      "outputs": []
    },
    {
      "cell_type": "markdown",
      "source": [
        "\n",
        "\n",
        "---\n",
        "\n"
      ],
      "metadata": {
        "id": "_aqvympIU-8o"
      }
    },
    {
      "cell_type": "markdown",
      "source": [
        "## **Comparison of AdaBoost and Random Forest**"
      ],
      "metadata": {
        "id": "ZI5qFBpA_15b"
      }
    },
    {
      "cell_type": "code",
      "source": [
        "print(\"Comparison of Ensemble Methods:\")\n",
        "print(f\"{'Metric':<15} {'AdaBoost':<10} {'Random Forest':<10}\")\n",
        "print(f\"{'Accuracy':<15} {accuracy_ada*100:.2f}%        {accuracy_rf*100:.2f}%\")\n",
        "print(f\"{'Precision':<15} {precision_ada*100:.2f}%        {precision_rf*100:.2f}%\")\n",
        "print(f\"{'Recall':<15} {recall_ada*100:.2f}%        {recall_rf*100:.2f}%\")\n",
        "print(f\"{'F1-Score':<15} {f1_ada*100:.2f}%        {f1_rf*100:.2f}%\")\n",
        "print(f\"{'ROC-AUC':<15} {roc_auc_ada*100:.2f}%        {roc_auc_rf*100:.2f}%\")"
      ],
      "metadata": {
        "colab": {
          "base_uri": "https://localhost:8080/"
        },
        "id": "66RZXDCP-cL9",
        "outputId": "0c801a78-d593-4b54-e8f8-944ec36f3904"
      },
      "execution_count": null,
      "outputs": [
        {
          "output_type": "stream",
          "name": "stdout",
          "text": [
            "Comparison of Ensemble Methods:\n",
            "Metric          AdaBoost   Random Forest\n",
            "Accuracy        95.61%        95.61%\n",
            "Precision       94.67%        95.89%\n",
            "Recall          98.61%        97.22%\n",
            "F1-Score        96.60%        96.55%\n",
            "ROC-AUC         98.25%        99.37%\n"
          ]
        }
      ]
    },
    {
      "cell_type": "markdown",
      "source": [
        "\n",
        "\n",
        "---\n",
        "\n"
      ],
      "metadata": {
        "id": "FCbTmoSjWgiD"
      }
    },
    {
      "cell_type": "markdown",
      "source": [
        "## **Discussion**."
      ],
      "metadata": {
        "id": "1znLDHvqFmjb"
      }
    },
    {
      "cell_type": "markdown",
      "source": [
        "- **Performance Comparison**:\n",
        "  - **Accuracy**: Both AdaBoost and Random Forest achieve the same accuracy of 95.61%. This suggests that both ensemble methods perform similarly in terms of correctly classifying instances.\n",
        "  - **Precision**: Random Forest slightly outperforms AdaBoost with a precision of 95.89% compared to AdaBoost's 94.67%. This indicates that Random Forest is better at minimizing false positives.\n",
        "  - **Recall**: AdaBoost has a higher recall (98.61%) than Random Forest (97.22%), which means AdaBoost is more effective at capturing true positive instances. This makes AdaBoost better at identifying the positive class, even if it means sacrificing some precision.\n",
        "  - **F1-Score**: Both methods have nearly identical F1-scores, with AdaBoost at 96.60% and Random Forest at 96.55%. The F1-score shows a good balance between precision and recall for both methods.\n",
        "  - **ROC-AUC**: Random Forest outperforms AdaBoost in terms of ROC-AUC with a score of 99.37%, compared to AdaBoost's 98.25%. The ROC-AUC score suggests that Random Forest is slightly better at distinguishing between the classes, which is important for classification tasks.\n",
        "\n",
        "\n"
      ],
      "metadata": {
        "id": "D_rRfwp5Fk4c"
      }
    },
    {
      "cell_type": "markdown",
      "source": [
        "#### Which Ensemble Method Performed Better and Why?\n"
      ],
      "metadata": {
        "id": "RkcT478xFrAQ"
      }
    },
    {
      "cell_type": "markdown",
      "source": [
        "- **Random Forest** performed slightly better than **AdaBoost** in terms of precision, ROC-AUC, and overall robustness. This is likely due to its nature of using multiple decision trees, which helps reduce overfitting by averaging the results of several models, making it more stable and less sensitive to noisy data. It performs particularly well in capturing the overall structure of the data.\n",
        "  \n",
        "- **AdaBoost**, on the other hand, excels in recall, making it particularly effective in applications where missing positive instances (false negatives) is more critical than introducing some false positives. AdaBoost adapts to the mistakes made by previous models, which gives it an edge in identifying hard-to-classify instances."
      ],
      "metadata": {
        "id": "u_zPTdeAFsxg"
      }
    },
    {
      "cell_type": "markdown",
      "source": [
        "#### Comparison with Individual Models (KNN, Logistic Regression, SVM)"
      ],
      "metadata": {
        "id": "rgN7fZeWFz1-"
      }
    },
    {
      "cell_type": "markdown",
      "source": [
        "##### 1. **K-Nearest Neighbors (KNN)**.\n",
        "  - KNN generally achieves lower performance compared to ensemble methods like **AdaBoost** or **Random Forest**. It typically has lower precision and recall because it tends to misclassify instances that are close to decision boundaries, particularly in high-dimensional spaces.\n",
        "  - **Ensemble methods** tend to outperform KNN because they aggregate multiple models to improve accuracy, precision, and recall, which KNN does not inherently do."
      ],
      "metadata": {
        "id": "0QoYjKAMVl5e"
      }
    },
    {
      "cell_type": "markdown",
      "source": [
        "\n",
        "##### 2. **Logistic Regression**.\n",
        "  - **Logistic Regression** performs well, especially with **L1 regularization (Lasso)**, achieving **98.25% accuracy**, and has a high **ROC-AUC score (98.12%)**, similar to the performance of **AdaBoost** and **Random Forest**. However, regularization (Lasso/Ridge) can decrease performance compared to the non-regularized version.\n",
        "  - **Ensemble methods**, particularly **Random Forest**, typically outperform **Logistic Regression** in non-linear scenarios due to their ability to handle complex decision boundaries.\n",
        "  - While **AdaBoost** performs similarly to **Logistic Regression** in some aspects, its recall and precision tend to be better, particularly when the dataset has challenging examples to classify."
      ],
      "metadata": {
        "id": "f2wtFIanF6zH"
      }
    },
    {
      "cell_type": "markdown",
      "source": [
        "##### 3. **Support Vector Machines (SVM)**.\n",
        "  - **SVM** (particularly with a **linear kernel**) outperforms many other individual models, but ensemble methods like **Random Forest** and **AdaBoost** typically provide more stable performance across different types of data, as they leverage multiple weak models.\n",
        "  - **AdaBoost** and **Random Forest** tend to offer better **precision** and **recall** than **SVM** with polynomial or RBF kernels, although **SVM with a linear kernel** is highly competitive."
      ],
      "metadata": {
        "id": "kP8rfjRfVqkg"
      }
    },
    {
      "cell_type": "markdown",
      "source": [
        "\n",
        "---\n",
        "\n"
      ],
      "metadata": {
        "id": "O30MB296Yuav"
      }
    }
  ]
}